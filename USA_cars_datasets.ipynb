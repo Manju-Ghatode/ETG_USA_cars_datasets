{
  "nbformat": 4,
  "nbformat_minor": 0,
  "metadata": {
    "colab": {
      "name": "USA_cars_datasets.ipynb",
      "provenance": [],
      "collapsed_sections": [],
      "authorship_tag": "ABX9TyNw5M0vlPEwMRMLFHpJUwyf",
      "include_colab_link": true
    },
    "kernelspec": {
      "name": "python3",
      "display_name": "Python 3"
    },
    "language_info": {
      "name": "python"
    }
  },
  "cells": [
    {
      "cell_type": "markdown",
      "metadata": {
        "id": "view-in-github",
        "colab_type": "text"
      },
      "source": [
        "<a href=\"https://colab.research.google.com/github/Manju-Ghatode/ETG_USA_cars_datasets/blob/main/USA_cars_datasets.ipynb\" target=\"_parent\"><img src=\"https://colab.research.google.com/assets/colab-badge.svg\" alt=\"Open In Colab\"/></a>"
      ]
    },
    {
      "cell_type": "code",
      "metadata": {
        "id": "Ci7tEmWuUKmd"
      },
      "source": [
        "\n",
        "import pandas as pd\n",
        "import numpy as np\n",
        "import matplotlib.pyplot as plt\n"
      ],
      "execution_count": 602,
      "outputs": []
    },
    {
      "cell_type": "code",
      "metadata": {
        "id": "nk-rNXDTcMfv"
      },
      "source": [
        "df = pd.read_csv(\"/content/USA_cars_dataset.csv\")"
      ],
      "execution_count": 603,
      "outputs": []
    },
    {
      "cell_type": "code",
      "metadata": {
        "colab": {
          "base_uri": "https://localhost:8080/",
          "height": 413
        },
        "id": "f7UPs5Qrc1cj",
        "outputId": "0085d305-f3a0-441f-a928-29f5024f2134"
      },
      "source": [
        "df"
      ],
      "execution_count": 604,
      "outputs": [
        {
          "output_type": "execute_result",
          "data": {
            "text/html": [
              "<div>\n",
              "<style scoped>\n",
              "    .dataframe tbody tr th:only-of-type {\n",
              "        vertical-align: middle;\n",
              "    }\n",
              "\n",
              "    .dataframe tbody tr th {\n",
              "        vertical-align: top;\n",
              "    }\n",
              "\n",
              "    .dataframe thead th {\n",
              "        text-align: right;\n",
              "    }\n",
              "</style>\n",
              "<table border=\"1\" class=\"dataframe\">\n",
              "  <thead>\n",
              "    <tr style=\"text-align: right;\">\n",
              "      <th></th>\n",
              "      <th>Unnamed: 0</th>\n",
              "      <th>price</th>\n",
              "      <th>brand</th>\n",
              "      <th>model</th>\n",
              "      <th>year</th>\n",
              "      <th>title_status</th>\n",
              "      <th>mileage</th>\n",
              "      <th>color</th>\n",
              "      <th>vin</th>\n",
              "      <th>lot</th>\n",
              "      <th>state</th>\n",
              "      <th>country</th>\n",
              "      <th>condition</th>\n",
              "    </tr>\n",
              "  </thead>\n",
              "  <tbody>\n",
              "    <tr>\n",
              "      <th>0</th>\n",
              "      <td>0</td>\n",
              "      <td>6300</td>\n",
              "      <td>toyota</td>\n",
              "      <td>cruiser</td>\n",
              "      <td>2008</td>\n",
              "      <td>clean vehicle</td>\n",
              "      <td>274117</td>\n",
              "      <td>black</td>\n",
              "      <td>jtezu11f88k007763</td>\n",
              "      <td>159348797</td>\n",
              "      <td>new jersey</td>\n",
              "      <td>usa</td>\n",
              "      <td>10 days left</td>\n",
              "    </tr>\n",
              "    <tr>\n",
              "      <th>1</th>\n",
              "      <td>1</td>\n",
              "      <td>2899</td>\n",
              "      <td>ford</td>\n",
              "      <td>se</td>\n",
              "      <td>2011</td>\n",
              "      <td>clean vehicle</td>\n",
              "      <td>190552</td>\n",
              "      <td>silver</td>\n",
              "      <td>2fmdk3gc4bbb02217</td>\n",
              "      <td>166951262</td>\n",
              "      <td>tennessee</td>\n",
              "      <td>usa</td>\n",
              "      <td>6 days left</td>\n",
              "    </tr>\n",
              "    <tr>\n",
              "      <th>2</th>\n",
              "      <td>2</td>\n",
              "      <td>5350</td>\n",
              "      <td>dodge</td>\n",
              "      <td>mpv</td>\n",
              "      <td>2018</td>\n",
              "      <td>clean vehicle</td>\n",
              "      <td>39590</td>\n",
              "      <td>silver</td>\n",
              "      <td>3c4pdcgg5jt346413</td>\n",
              "      <td>167655728</td>\n",
              "      <td>georgia</td>\n",
              "      <td>usa</td>\n",
              "      <td>2 days left</td>\n",
              "    </tr>\n",
              "    <tr>\n",
              "      <th>3</th>\n",
              "      <td>3</td>\n",
              "      <td>25000</td>\n",
              "      <td>ford</td>\n",
              "      <td>door</td>\n",
              "      <td>2014</td>\n",
              "      <td>clean vehicle</td>\n",
              "      <td>64146</td>\n",
              "      <td>blue</td>\n",
              "      <td>1ftfw1et4efc23745</td>\n",
              "      <td>167753855</td>\n",
              "      <td>virginia</td>\n",
              "      <td>usa</td>\n",
              "      <td>22 hours left</td>\n",
              "    </tr>\n",
              "    <tr>\n",
              "      <th>4</th>\n",
              "      <td>4</td>\n",
              "      <td>27700</td>\n",
              "      <td>chevrolet</td>\n",
              "      <td>1500</td>\n",
              "      <td>2018</td>\n",
              "      <td>clean vehicle</td>\n",
              "      <td>6654</td>\n",
              "      <td>red</td>\n",
              "      <td>3gcpcrec2jg473991</td>\n",
              "      <td>167763266</td>\n",
              "      <td>florida</td>\n",
              "      <td>usa</td>\n",
              "      <td>22 hours left</td>\n",
              "    </tr>\n",
              "    <tr>\n",
              "      <th>...</th>\n",
              "      <td>...</td>\n",
              "      <td>...</td>\n",
              "      <td>...</td>\n",
              "      <td>...</td>\n",
              "      <td>...</td>\n",
              "      <td>...</td>\n",
              "      <td>...</td>\n",
              "      <td>...</td>\n",
              "      <td>...</td>\n",
              "      <td>...</td>\n",
              "      <td>...</td>\n",
              "      <td>...</td>\n",
              "      <td>...</td>\n",
              "    </tr>\n",
              "    <tr>\n",
              "      <th>2494</th>\n",
              "      <td>2494</td>\n",
              "      <td>7800</td>\n",
              "      <td>nissan</td>\n",
              "      <td>versa</td>\n",
              "      <td>2019</td>\n",
              "      <td>clean vehicle</td>\n",
              "      <td>23609</td>\n",
              "      <td>red</td>\n",
              "      <td>3n1cn7ap9kl880319</td>\n",
              "      <td>167722715</td>\n",
              "      <td>california</td>\n",
              "      <td>usa</td>\n",
              "      <td>1 days left</td>\n",
              "    </tr>\n",
              "    <tr>\n",
              "      <th>2495</th>\n",
              "      <td>2495</td>\n",
              "      <td>9200</td>\n",
              "      <td>nissan</td>\n",
              "      <td>versa</td>\n",
              "      <td>2018</td>\n",
              "      <td>clean vehicle</td>\n",
              "      <td>34553</td>\n",
              "      <td>silver</td>\n",
              "      <td>3n1cn7ap5jl884088</td>\n",
              "      <td>167762225</td>\n",
              "      <td>florida</td>\n",
              "      <td>usa</td>\n",
              "      <td>21 hours left</td>\n",
              "    </tr>\n",
              "    <tr>\n",
              "      <th>2496</th>\n",
              "      <td>2496</td>\n",
              "      <td>9200</td>\n",
              "      <td>nissan</td>\n",
              "      <td>versa</td>\n",
              "      <td>2018</td>\n",
              "      <td>clean vehicle</td>\n",
              "      <td>31594</td>\n",
              "      <td>silver</td>\n",
              "      <td>3n1cn7ap9jl884191</td>\n",
              "      <td>167762226</td>\n",
              "      <td>florida</td>\n",
              "      <td>usa</td>\n",
              "      <td>21 hours left</td>\n",
              "    </tr>\n",
              "    <tr>\n",
              "      <th>2497</th>\n",
              "      <td>2497</td>\n",
              "      <td>9200</td>\n",
              "      <td>nissan</td>\n",
              "      <td>versa</td>\n",
              "      <td>2018</td>\n",
              "      <td>clean vehicle</td>\n",
              "      <td>32557</td>\n",
              "      <td>black</td>\n",
              "      <td>3n1cn7ap3jl883263</td>\n",
              "      <td>167762227</td>\n",
              "      <td>florida</td>\n",
              "      <td>usa</td>\n",
              "      <td>2 days left</td>\n",
              "    </tr>\n",
              "    <tr>\n",
              "      <th>2498</th>\n",
              "      <td>2498</td>\n",
              "      <td>9200</td>\n",
              "      <td>nissan</td>\n",
              "      <td>versa</td>\n",
              "      <td>2018</td>\n",
              "      <td>clean vehicle</td>\n",
              "      <td>31371</td>\n",
              "      <td>silver</td>\n",
              "      <td>3n1cn7ap4jl884311</td>\n",
              "      <td>167762228</td>\n",
              "      <td>florida</td>\n",
              "      <td>usa</td>\n",
              "      <td>21 hours left</td>\n",
              "    </tr>\n",
              "  </tbody>\n",
              "</table>\n",
              "<p>2499 rows × 13 columns</p>\n",
              "</div>"
            ],
            "text/plain": [
              "      Unnamed: 0  price      brand  ...       state  country      condition\n",
              "0              0   6300     toyota  ...  new jersey      usa   10 days left\n",
              "1              1   2899       ford  ...   tennessee      usa    6 days left\n",
              "2              2   5350      dodge  ...     georgia      usa    2 days left\n",
              "3              3  25000       ford  ...    virginia      usa  22 hours left\n",
              "4              4  27700  chevrolet  ...     florida      usa  22 hours left\n",
              "...          ...    ...        ...  ...         ...      ...            ...\n",
              "2494        2494   7800     nissan  ...  california      usa    1 days left\n",
              "2495        2495   9200     nissan  ...     florida      usa  21 hours left\n",
              "2496        2496   9200     nissan  ...     florida      usa  21 hours left\n",
              "2497        2497   9200     nissan  ...     florida      usa    2 days left\n",
              "2498        2498   9200     nissan  ...     florida      usa  21 hours left\n",
              "\n",
              "[2499 rows x 13 columns]"
            ]
          },
          "metadata": {},
          "execution_count": 604
        }
      ]
    },
    {
      "cell_type": "code",
      "metadata": {
        "id": "__W_1bHqkslB"
      },
      "source": [
        "del df[\"condition\"]"
      ],
      "execution_count": 605,
      "outputs": []
    },
    {
      "cell_type": "code",
      "metadata": {
        "colab": {
          "base_uri": "https://localhost:8080/",
          "height": 413
        },
        "id": "lHMXgD0Pk8am",
        "outputId": "6db2a6df-a1b0-41ef-a3b0-57ceff35c8d1"
      },
      "source": [
        "df"
      ],
      "execution_count": 606,
      "outputs": [
        {
          "output_type": "execute_result",
          "data": {
            "text/html": [
              "<div>\n",
              "<style scoped>\n",
              "    .dataframe tbody tr th:only-of-type {\n",
              "        vertical-align: middle;\n",
              "    }\n",
              "\n",
              "    .dataframe tbody tr th {\n",
              "        vertical-align: top;\n",
              "    }\n",
              "\n",
              "    .dataframe thead th {\n",
              "        text-align: right;\n",
              "    }\n",
              "</style>\n",
              "<table border=\"1\" class=\"dataframe\">\n",
              "  <thead>\n",
              "    <tr style=\"text-align: right;\">\n",
              "      <th></th>\n",
              "      <th>Unnamed: 0</th>\n",
              "      <th>price</th>\n",
              "      <th>brand</th>\n",
              "      <th>model</th>\n",
              "      <th>year</th>\n",
              "      <th>title_status</th>\n",
              "      <th>mileage</th>\n",
              "      <th>color</th>\n",
              "      <th>vin</th>\n",
              "      <th>lot</th>\n",
              "      <th>state</th>\n",
              "      <th>country</th>\n",
              "    </tr>\n",
              "  </thead>\n",
              "  <tbody>\n",
              "    <tr>\n",
              "      <th>0</th>\n",
              "      <td>0</td>\n",
              "      <td>6300</td>\n",
              "      <td>toyota</td>\n",
              "      <td>cruiser</td>\n",
              "      <td>2008</td>\n",
              "      <td>clean vehicle</td>\n",
              "      <td>274117</td>\n",
              "      <td>black</td>\n",
              "      <td>jtezu11f88k007763</td>\n",
              "      <td>159348797</td>\n",
              "      <td>new jersey</td>\n",
              "      <td>usa</td>\n",
              "    </tr>\n",
              "    <tr>\n",
              "      <th>1</th>\n",
              "      <td>1</td>\n",
              "      <td>2899</td>\n",
              "      <td>ford</td>\n",
              "      <td>se</td>\n",
              "      <td>2011</td>\n",
              "      <td>clean vehicle</td>\n",
              "      <td>190552</td>\n",
              "      <td>silver</td>\n",
              "      <td>2fmdk3gc4bbb02217</td>\n",
              "      <td>166951262</td>\n",
              "      <td>tennessee</td>\n",
              "      <td>usa</td>\n",
              "    </tr>\n",
              "    <tr>\n",
              "      <th>2</th>\n",
              "      <td>2</td>\n",
              "      <td>5350</td>\n",
              "      <td>dodge</td>\n",
              "      <td>mpv</td>\n",
              "      <td>2018</td>\n",
              "      <td>clean vehicle</td>\n",
              "      <td>39590</td>\n",
              "      <td>silver</td>\n",
              "      <td>3c4pdcgg5jt346413</td>\n",
              "      <td>167655728</td>\n",
              "      <td>georgia</td>\n",
              "      <td>usa</td>\n",
              "    </tr>\n",
              "    <tr>\n",
              "      <th>3</th>\n",
              "      <td>3</td>\n",
              "      <td>25000</td>\n",
              "      <td>ford</td>\n",
              "      <td>door</td>\n",
              "      <td>2014</td>\n",
              "      <td>clean vehicle</td>\n",
              "      <td>64146</td>\n",
              "      <td>blue</td>\n",
              "      <td>1ftfw1et4efc23745</td>\n",
              "      <td>167753855</td>\n",
              "      <td>virginia</td>\n",
              "      <td>usa</td>\n",
              "    </tr>\n",
              "    <tr>\n",
              "      <th>4</th>\n",
              "      <td>4</td>\n",
              "      <td>27700</td>\n",
              "      <td>chevrolet</td>\n",
              "      <td>1500</td>\n",
              "      <td>2018</td>\n",
              "      <td>clean vehicle</td>\n",
              "      <td>6654</td>\n",
              "      <td>red</td>\n",
              "      <td>3gcpcrec2jg473991</td>\n",
              "      <td>167763266</td>\n",
              "      <td>florida</td>\n",
              "      <td>usa</td>\n",
              "    </tr>\n",
              "    <tr>\n",
              "      <th>...</th>\n",
              "      <td>...</td>\n",
              "      <td>...</td>\n",
              "      <td>...</td>\n",
              "      <td>...</td>\n",
              "      <td>...</td>\n",
              "      <td>...</td>\n",
              "      <td>...</td>\n",
              "      <td>...</td>\n",
              "      <td>...</td>\n",
              "      <td>...</td>\n",
              "      <td>...</td>\n",
              "      <td>...</td>\n",
              "    </tr>\n",
              "    <tr>\n",
              "      <th>2494</th>\n",
              "      <td>2494</td>\n",
              "      <td>7800</td>\n",
              "      <td>nissan</td>\n",
              "      <td>versa</td>\n",
              "      <td>2019</td>\n",
              "      <td>clean vehicle</td>\n",
              "      <td>23609</td>\n",
              "      <td>red</td>\n",
              "      <td>3n1cn7ap9kl880319</td>\n",
              "      <td>167722715</td>\n",
              "      <td>california</td>\n",
              "      <td>usa</td>\n",
              "    </tr>\n",
              "    <tr>\n",
              "      <th>2495</th>\n",
              "      <td>2495</td>\n",
              "      <td>9200</td>\n",
              "      <td>nissan</td>\n",
              "      <td>versa</td>\n",
              "      <td>2018</td>\n",
              "      <td>clean vehicle</td>\n",
              "      <td>34553</td>\n",
              "      <td>silver</td>\n",
              "      <td>3n1cn7ap5jl884088</td>\n",
              "      <td>167762225</td>\n",
              "      <td>florida</td>\n",
              "      <td>usa</td>\n",
              "    </tr>\n",
              "    <tr>\n",
              "      <th>2496</th>\n",
              "      <td>2496</td>\n",
              "      <td>9200</td>\n",
              "      <td>nissan</td>\n",
              "      <td>versa</td>\n",
              "      <td>2018</td>\n",
              "      <td>clean vehicle</td>\n",
              "      <td>31594</td>\n",
              "      <td>silver</td>\n",
              "      <td>3n1cn7ap9jl884191</td>\n",
              "      <td>167762226</td>\n",
              "      <td>florida</td>\n",
              "      <td>usa</td>\n",
              "    </tr>\n",
              "    <tr>\n",
              "      <th>2497</th>\n",
              "      <td>2497</td>\n",
              "      <td>9200</td>\n",
              "      <td>nissan</td>\n",
              "      <td>versa</td>\n",
              "      <td>2018</td>\n",
              "      <td>clean vehicle</td>\n",
              "      <td>32557</td>\n",
              "      <td>black</td>\n",
              "      <td>3n1cn7ap3jl883263</td>\n",
              "      <td>167762227</td>\n",
              "      <td>florida</td>\n",
              "      <td>usa</td>\n",
              "    </tr>\n",
              "    <tr>\n",
              "      <th>2498</th>\n",
              "      <td>2498</td>\n",
              "      <td>9200</td>\n",
              "      <td>nissan</td>\n",
              "      <td>versa</td>\n",
              "      <td>2018</td>\n",
              "      <td>clean vehicle</td>\n",
              "      <td>31371</td>\n",
              "      <td>silver</td>\n",
              "      <td>3n1cn7ap4jl884311</td>\n",
              "      <td>167762228</td>\n",
              "      <td>florida</td>\n",
              "      <td>usa</td>\n",
              "    </tr>\n",
              "  </tbody>\n",
              "</table>\n",
              "<p>2499 rows × 12 columns</p>\n",
              "</div>"
            ],
            "text/plain": [
              "      Unnamed: 0  price      brand  ...        lot       state country\n",
              "0              0   6300     toyota  ...  159348797  new jersey     usa\n",
              "1              1   2899       ford  ...  166951262   tennessee     usa\n",
              "2              2   5350      dodge  ...  167655728     georgia     usa\n",
              "3              3  25000       ford  ...  167753855    virginia     usa\n",
              "4              4  27700  chevrolet  ...  167763266     florida     usa\n",
              "...          ...    ...        ...  ...        ...         ...     ...\n",
              "2494        2494   7800     nissan  ...  167722715  california     usa\n",
              "2495        2495   9200     nissan  ...  167762225     florida     usa\n",
              "2496        2496   9200     nissan  ...  167762226     florida     usa\n",
              "2497        2497   9200     nissan  ...  167762227     florida     usa\n",
              "2498        2498   9200     nissan  ...  167762228     florida     usa\n",
              "\n",
              "[2499 rows x 12 columns]"
            ]
          },
          "metadata": {},
          "execution_count": 606
        }
      ]
    },
    {
      "cell_type": "code",
      "metadata": {
        "id": "a8y41wlxhcEa"
      },
      "source": [
        "del df['Unnamed: 0']\n",
        "del df['vin']\n",
        "del df['lot']"
      ],
      "execution_count": 607,
      "outputs": []
    },
    {
      "cell_type": "code",
      "metadata": {
        "colab": {
          "base_uri": "https://localhost:8080/",
          "height": 413
        },
        "id": "SI3Zd4c1himY",
        "outputId": "03f9077f-2993-4025-ecca-53c5b5e2756e"
      },
      "source": [
        "df"
      ],
      "execution_count": 608,
      "outputs": [
        {
          "output_type": "execute_result",
          "data": {
            "text/html": [
              "<div>\n",
              "<style scoped>\n",
              "    .dataframe tbody tr th:only-of-type {\n",
              "        vertical-align: middle;\n",
              "    }\n",
              "\n",
              "    .dataframe tbody tr th {\n",
              "        vertical-align: top;\n",
              "    }\n",
              "\n",
              "    .dataframe thead th {\n",
              "        text-align: right;\n",
              "    }\n",
              "</style>\n",
              "<table border=\"1\" class=\"dataframe\">\n",
              "  <thead>\n",
              "    <tr style=\"text-align: right;\">\n",
              "      <th></th>\n",
              "      <th>price</th>\n",
              "      <th>brand</th>\n",
              "      <th>model</th>\n",
              "      <th>year</th>\n",
              "      <th>title_status</th>\n",
              "      <th>mileage</th>\n",
              "      <th>color</th>\n",
              "      <th>state</th>\n",
              "      <th>country</th>\n",
              "    </tr>\n",
              "  </thead>\n",
              "  <tbody>\n",
              "    <tr>\n",
              "      <th>0</th>\n",
              "      <td>6300</td>\n",
              "      <td>toyota</td>\n",
              "      <td>cruiser</td>\n",
              "      <td>2008</td>\n",
              "      <td>clean vehicle</td>\n",
              "      <td>274117</td>\n",
              "      <td>black</td>\n",
              "      <td>new jersey</td>\n",
              "      <td>usa</td>\n",
              "    </tr>\n",
              "    <tr>\n",
              "      <th>1</th>\n",
              "      <td>2899</td>\n",
              "      <td>ford</td>\n",
              "      <td>se</td>\n",
              "      <td>2011</td>\n",
              "      <td>clean vehicle</td>\n",
              "      <td>190552</td>\n",
              "      <td>silver</td>\n",
              "      <td>tennessee</td>\n",
              "      <td>usa</td>\n",
              "    </tr>\n",
              "    <tr>\n",
              "      <th>2</th>\n",
              "      <td>5350</td>\n",
              "      <td>dodge</td>\n",
              "      <td>mpv</td>\n",
              "      <td>2018</td>\n",
              "      <td>clean vehicle</td>\n",
              "      <td>39590</td>\n",
              "      <td>silver</td>\n",
              "      <td>georgia</td>\n",
              "      <td>usa</td>\n",
              "    </tr>\n",
              "    <tr>\n",
              "      <th>3</th>\n",
              "      <td>25000</td>\n",
              "      <td>ford</td>\n",
              "      <td>door</td>\n",
              "      <td>2014</td>\n",
              "      <td>clean vehicle</td>\n",
              "      <td>64146</td>\n",
              "      <td>blue</td>\n",
              "      <td>virginia</td>\n",
              "      <td>usa</td>\n",
              "    </tr>\n",
              "    <tr>\n",
              "      <th>4</th>\n",
              "      <td>27700</td>\n",
              "      <td>chevrolet</td>\n",
              "      <td>1500</td>\n",
              "      <td>2018</td>\n",
              "      <td>clean vehicle</td>\n",
              "      <td>6654</td>\n",
              "      <td>red</td>\n",
              "      <td>florida</td>\n",
              "      <td>usa</td>\n",
              "    </tr>\n",
              "    <tr>\n",
              "      <th>...</th>\n",
              "      <td>...</td>\n",
              "      <td>...</td>\n",
              "      <td>...</td>\n",
              "      <td>...</td>\n",
              "      <td>...</td>\n",
              "      <td>...</td>\n",
              "      <td>...</td>\n",
              "      <td>...</td>\n",
              "      <td>...</td>\n",
              "    </tr>\n",
              "    <tr>\n",
              "      <th>2494</th>\n",
              "      <td>7800</td>\n",
              "      <td>nissan</td>\n",
              "      <td>versa</td>\n",
              "      <td>2019</td>\n",
              "      <td>clean vehicle</td>\n",
              "      <td>23609</td>\n",
              "      <td>red</td>\n",
              "      <td>california</td>\n",
              "      <td>usa</td>\n",
              "    </tr>\n",
              "    <tr>\n",
              "      <th>2495</th>\n",
              "      <td>9200</td>\n",
              "      <td>nissan</td>\n",
              "      <td>versa</td>\n",
              "      <td>2018</td>\n",
              "      <td>clean vehicle</td>\n",
              "      <td>34553</td>\n",
              "      <td>silver</td>\n",
              "      <td>florida</td>\n",
              "      <td>usa</td>\n",
              "    </tr>\n",
              "    <tr>\n",
              "      <th>2496</th>\n",
              "      <td>9200</td>\n",
              "      <td>nissan</td>\n",
              "      <td>versa</td>\n",
              "      <td>2018</td>\n",
              "      <td>clean vehicle</td>\n",
              "      <td>31594</td>\n",
              "      <td>silver</td>\n",
              "      <td>florida</td>\n",
              "      <td>usa</td>\n",
              "    </tr>\n",
              "    <tr>\n",
              "      <th>2497</th>\n",
              "      <td>9200</td>\n",
              "      <td>nissan</td>\n",
              "      <td>versa</td>\n",
              "      <td>2018</td>\n",
              "      <td>clean vehicle</td>\n",
              "      <td>32557</td>\n",
              "      <td>black</td>\n",
              "      <td>florida</td>\n",
              "      <td>usa</td>\n",
              "    </tr>\n",
              "    <tr>\n",
              "      <th>2498</th>\n",
              "      <td>9200</td>\n",
              "      <td>nissan</td>\n",
              "      <td>versa</td>\n",
              "      <td>2018</td>\n",
              "      <td>clean vehicle</td>\n",
              "      <td>31371</td>\n",
              "      <td>silver</td>\n",
              "      <td>florida</td>\n",
              "      <td>usa</td>\n",
              "    </tr>\n",
              "  </tbody>\n",
              "</table>\n",
              "<p>2499 rows × 9 columns</p>\n",
              "</div>"
            ],
            "text/plain": [
              "      price      brand    model  year  ... mileage   color       state country\n",
              "0      6300     toyota  cruiser  2008  ...  274117   black  new jersey     usa\n",
              "1      2899       ford       se  2011  ...  190552  silver   tennessee     usa\n",
              "2      5350      dodge      mpv  2018  ...   39590  silver     georgia     usa\n",
              "3     25000       ford     door  2014  ...   64146    blue    virginia     usa\n",
              "4     27700  chevrolet     1500  2018  ...    6654     red     florida     usa\n",
              "...     ...        ...      ...   ...  ...     ...     ...         ...     ...\n",
              "2494   7800     nissan    versa  2019  ...   23609     red  california     usa\n",
              "2495   9200     nissan    versa  2018  ...   34553  silver     florida     usa\n",
              "2496   9200     nissan    versa  2018  ...   31594  silver     florida     usa\n",
              "2497   9200     nissan    versa  2018  ...   32557   black     florida     usa\n",
              "2498   9200     nissan    versa  2018  ...   31371  silver     florida     usa\n",
              "\n",
              "[2499 rows x 9 columns]"
            ]
          },
          "metadata": {},
          "execution_count": 608
        }
      ]
    },
    {
      "cell_type": "code",
      "metadata": {
        "id": "PnvLmNpllCIP",
        "colab": {
          "base_uri": "https://localhost:8080/",
          "height": 293
        },
        "outputId": "0f18cf1f-b238-46d4-e2a9-4ee59ea73933"
      },
      "source": [
        "df.describe()"
      ],
      "execution_count": 609,
      "outputs": [
        {
          "output_type": "execute_result",
          "data": {
            "text/html": [
              "<div>\n",
              "<style scoped>\n",
              "    .dataframe tbody tr th:only-of-type {\n",
              "        vertical-align: middle;\n",
              "    }\n",
              "\n",
              "    .dataframe tbody tr th {\n",
              "        vertical-align: top;\n",
              "    }\n",
              "\n",
              "    .dataframe thead th {\n",
              "        text-align: right;\n",
              "    }\n",
              "</style>\n",
              "<table border=\"1\" class=\"dataframe\">\n",
              "  <thead>\n",
              "    <tr style=\"text-align: right;\">\n",
              "      <th></th>\n",
              "      <th>price</th>\n",
              "      <th>year</th>\n",
              "      <th>mileage</th>\n",
              "    </tr>\n",
              "  </thead>\n",
              "  <tbody>\n",
              "    <tr>\n",
              "      <th>count</th>\n",
              "      <td>2499.000000</td>\n",
              "      <td>2499.000000</td>\n",
              "      <td>2.499000e+03</td>\n",
              "    </tr>\n",
              "    <tr>\n",
              "      <th>mean</th>\n",
              "      <td>18767.671469</td>\n",
              "      <td>2016.714286</td>\n",
              "      <td>5.229869e+04</td>\n",
              "    </tr>\n",
              "    <tr>\n",
              "      <th>std</th>\n",
              "      <td>12116.094936</td>\n",
              "      <td>3.442656</td>\n",
              "      <td>5.970552e+04</td>\n",
              "    </tr>\n",
              "    <tr>\n",
              "      <th>min</th>\n",
              "      <td>0.000000</td>\n",
              "      <td>1973.000000</td>\n",
              "      <td>0.000000e+00</td>\n",
              "    </tr>\n",
              "    <tr>\n",
              "      <th>25%</th>\n",
              "      <td>10200.000000</td>\n",
              "      <td>2016.000000</td>\n",
              "      <td>2.146650e+04</td>\n",
              "    </tr>\n",
              "    <tr>\n",
              "      <th>50%</th>\n",
              "      <td>16900.000000</td>\n",
              "      <td>2018.000000</td>\n",
              "      <td>3.536500e+04</td>\n",
              "    </tr>\n",
              "    <tr>\n",
              "      <th>75%</th>\n",
              "      <td>25555.500000</td>\n",
              "      <td>2019.000000</td>\n",
              "      <td>6.347250e+04</td>\n",
              "    </tr>\n",
              "    <tr>\n",
              "      <th>max</th>\n",
              "      <td>84900.000000</td>\n",
              "      <td>2020.000000</td>\n",
              "      <td>1.017936e+06</td>\n",
              "    </tr>\n",
              "  </tbody>\n",
              "</table>\n",
              "</div>"
            ],
            "text/plain": [
              "              price         year       mileage\n",
              "count   2499.000000  2499.000000  2.499000e+03\n",
              "mean   18767.671469  2016.714286  5.229869e+04\n",
              "std    12116.094936     3.442656  5.970552e+04\n",
              "min        0.000000  1973.000000  0.000000e+00\n",
              "25%    10200.000000  2016.000000  2.146650e+04\n",
              "50%    16900.000000  2018.000000  3.536500e+04\n",
              "75%    25555.500000  2019.000000  6.347250e+04\n",
              "max    84900.000000  2020.000000  1.017936e+06"
            ]
          },
          "metadata": {},
          "execution_count": 609
        }
      ]
    },
    {
      "cell_type": "code",
      "metadata": {
        "id": "NQTHj2v1kujn",
        "colab": {
          "base_uri": "https://localhost:8080/"
        },
        "outputId": "8d9d5657-f868-4440-b291-ff184fc99ad7"
      },
      "source": [
        "df.info()"
      ],
      "execution_count": 610,
      "outputs": [
        {
          "output_type": "stream",
          "name": "stdout",
          "text": [
            "<class 'pandas.core.frame.DataFrame'>\n",
            "RangeIndex: 2499 entries, 0 to 2498\n",
            "Data columns (total 9 columns):\n",
            " #   Column        Non-Null Count  Dtype \n",
            "---  ------        --------------  ----- \n",
            " 0   price         2499 non-null   int64 \n",
            " 1   brand         2499 non-null   object\n",
            " 2   model         2499 non-null   object\n",
            " 3   year          2499 non-null   int64 \n",
            " 4   title_status  2499 non-null   object\n",
            " 5   mileage       2499 non-null   int64 \n",
            " 6   color         2499 non-null   object\n",
            " 7   state         2499 non-null   object\n",
            " 8   country       2499 non-null   object\n",
            "dtypes: int64(3), object(6)\n",
            "memory usage: 175.8+ KB\n"
          ]
        }
      ]
    },
    {
      "cell_type": "code",
      "metadata": {
        "colab": {
          "base_uri": "https://localhost:8080/"
        },
        "id": "aeOg9KA2c4VE",
        "outputId": "00f2057e-bf77-4f73-c52a-3af031cd11ce"
      },
      "source": [
        "type(df)"
      ],
      "execution_count": 611,
      "outputs": [
        {
          "output_type": "execute_result",
          "data": {
            "text/plain": [
              "pandas.core.frame.DataFrame"
            ]
          },
          "metadata": {},
          "execution_count": 611
        }
      ]
    },
    {
      "cell_type": "code",
      "metadata": {
        "colab": {
          "base_uri": "https://localhost:8080/",
          "height": 201
        },
        "id": "UmRREjrOc-IU",
        "outputId": "8c46a64a-9b97-42ce-c6de-8d5d7c197f62"
      },
      "source": [
        "df.head()"
      ],
      "execution_count": 612,
      "outputs": [
        {
          "output_type": "execute_result",
          "data": {
            "text/html": [
              "<div>\n",
              "<style scoped>\n",
              "    .dataframe tbody tr th:only-of-type {\n",
              "        vertical-align: middle;\n",
              "    }\n",
              "\n",
              "    .dataframe tbody tr th {\n",
              "        vertical-align: top;\n",
              "    }\n",
              "\n",
              "    .dataframe thead th {\n",
              "        text-align: right;\n",
              "    }\n",
              "</style>\n",
              "<table border=\"1\" class=\"dataframe\">\n",
              "  <thead>\n",
              "    <tr style=\"text-align: right;\">\n",
              "      <th></th>\n",
              "      <th>price</th>\n",
              "      <th>brand</th>\n",
              "      <th>model</th>\n",
              "      <th>year</th>\n",
              "      <th>title_status</th>\n",
              "      <th>mileage</th>\n",
              "      <th>color</th>\n",
              "      <th>state</th>\n",
              "      <th>country</th>\n",
              "    </tr>\n",
              "  </thead>\n",
              "  <tbody>\n",
              "    <tr>\n",
              "      <th>0</th>\n",
              "      <td>6300</td>\n",
              "      <td>toyota</td>\n",
              "      <td>cruiser</td>\n",
              "      <td>2008</td>\n",
              "      <td>clean vehicle</td>\n",
              "      <td>274117</td>\n",
              "      <td>black</td>\n",
              "      <td>new jersey</td>\n",
              "      <td>usa</td>\n",
              "    </tr>\n",
              "    <tr>\n",
              "      <th>1</th>\n",
              "      <td>2899</td>\n",
              "      <td>ford</td>\n",
              "      <td>se</td>\n",
              "      <td>2011</td>\n",
              "      <td>clean vehicle</td>\n",
              "      <td>190552</td>\n",
              "      <td>silver</td>\n",
              "      <td>tennessee</td>\n",
              "      <td>usa</td>\n",
              "    </tr>\n",
              "    <tr>\n",
              "      <th>2</th>\n",
              "      <td>5350</td>\n",
              "      <td>dodge</td>\n",
              "      <td>mpv</td>\n",
              "      <td>2018</td>\n",
              "      <td>clean vehicle</td>\n",
              "      <td>39590</td>\n",
              "      <td>silver</td>\n",
              "      <td>georgia</td>\n",
              "      <td>usa</td>\n",
              "    </tr>\n",
              "    <tr>\n",
              "      <th>3</th>\n",
              "      <td>25000</td>\n",
              "      <td>ford</td>\n",
              "      <td>door</td>\n",
              "      <td>2014</td>\n",
              "      <td>clean vehicle</td>\n",
              "      <td>64146</td>\n",
              "      <td>blue</td>\n",
              "      <td>virginia</td>\n",
              "      <td>usa</td>\n",
              "    </tr>\n",
              "    <tr>\n",
              "      <th>4</th>\n",
              "      <td>27700</td>\n",
              "      <td>chevrolet</td>\n",
              "      <td>1500</td>\n",
              "      <td>2018</td>\n",
              "      <td>clean vehicle</td>\n",
              "      <td>6654</td>\n",
              "      <td>red</td>\n",
              "      <td>florida</td>\n",
              "      <td>usa</td>\n",
              "    </tr>\n",
              "  </tbody>\n",
              "</table>\n",
              "</div>"
            ],
            "text/plain": [
              "   price      brand    model  year  ... mileage   color       state country\n",
              "0   6300     toyota  cruiser  2008  ...  274117   black  new jersey     usa\n",
              "1   2899       ford       se  2011  ...  190552  silver   tennessee     usa\n",
              "2   5350      dodge      mpv  2018  ...   39590  silver     georgia     usa\n",
              "3  25000       ford     door  2014  ...   64146    blue    virginia     usa\n",
              "4  27700  chevrolet     1500  2018  ...    6654     red     florida     usa\n",
              "\n",
              "[5 rows x 9 columns]"
            ]
          },
          "metadata": {},
          "execution_count": 612
        }
      ]
    },
    {
      "cell_type": "code",
      "metadata": {
        "colab": {
          "base_uri": "https://localhost:8080/",
          "height": 201
        },
        "id": "Jf6YEz1mdA07",
        "outputId": "ac946529-6343-4082-ee50-40507a671ab6"
      },
      "source": [
        "df.tail()"
      ],
      "execution_count": 613,
      "outputs": [
        {
          "output_type": "execute_result",
          "data": {
            "text/html": [
              "<div>\n",
              "<style scoped>\n",
              "    .dataframe tbody tr th:only-of-type {\n",
              "        vertical-align: middle;\n",
              "    }\n",
              "\n",
              "    .dataframe tbody tr th {\n",
              "        vertical-align: top;\n",
              "    }\n",
              "\n",
              "    .dataframe thead th {\n",
              "        text-align: right;\n",
              "    }\n",
              "</style>\n",
              "<table border=\"1\" class=\"dataframe\">\n",
              "  <thead>\n",
              "    <tr style=\"text-align: right;\">\n",
              "      <th></th>\n",
              "      <th>price</th>\n",
              "      <th>brand</th>\n",
              "      <th>model</th>\n",
              "      <th>year</th>\n",
              "      <th>title_status</th>\n",
              "      <th>mileage</th>\n",
              "      <th>color</th>\n",
              "      <th>state</th>\n",
              "      <th>country</th>\n",
              "    </tr>\n",
              "  </thead>\n",
              "  <tbody>\n",
              "    <tr>\n",
              "      <th>2494</th>\n",
              "      <td>7800</td>\n",
              "      <td>nissan</td>\n",
              "      <td>versa</td>\n",
              "      <td>2019</td>\n",
              "      <td>clean vehicle</td>\n",
              "      <td>23609</td>\n",
              "      <td>red</td>\n",
              "      <td>california</td>\n",
              "      <td>usa</td>\n",
              "    </tr>\n",
              "    <tr>\n",
              "      <th>2495</th>\n",
              "      <td>9200</td>\n",
              "      <td>nissan</td>\n",
              "      <td>versa</td>\n",
              "      <td>2018</td>\n",
              "      <td>clean vehicle</td>\n",
              "      <td>34553</td>\n",
              "      <td>silver</td>\n",
              "      <td>florida</td>\n",
              "      <td>usa</td>\n",
              "    </tr>\n",
              "    <tr>\n",
              "      <th>2496</th>\n",
              "      <td>9200</td>\n",
              "      <td>nissan</td>\n",
              "      <td>versa</td>\n",
              "      <td>2018</td>\n",
              "      <td>clean vehicle</td>\n",
              "      <td>31594</td>\n",
              "      <td>silver</td>\n",
              "      <td>florida</td>\n",
              "      <td>usa</td>\n",
              "    </tr>\n",
              "    <tr>\n",
              "      <th>2497</th>\n",
              "      <td>9200</td>\n",
              "      <td>nissan</td>\n",
              "      <td>versa</td>\n",
              "      <td>2018</td>\n",
              "      <td>clean vehicle</td>\n",
              "      <td>32557</td>\n",
              "      <td>black</td>\n",
              "      <td>florida</td>\n",
              "      <td>usa</td>\n",
              "    </tr>\n",
              "    <tr>\n",
              "      <th>2498</th>\n",
              "      <td>9200</td>\n",
              "      <td>nissan</td>\n",
              "      <td>versa</td>\n",
              "      <td>2018</td>\n",
              "      <td>clean vehicle</td>\n",
              "      <td>31371</td>\n",
              "      <td>silver</td>\n",
              "      <td>florida</td>\n",
              "      <td>usa</td>\n",
              "    </tr>\n",
              "  </tbody>\n",
              "</table>\n",
              "</div>"
            ],
            "text/plain": [
              "      price   brand  model  year  ... mileage   color       state country\n",
              "2494   7800  nissan  versa  2019  ...   23609     red  california     usa\n",
              "2495   9200  nissan  versa  2018  ...   34553  silver     florida     usa\n",
              "2496   9200  nissan  versa  2018  ...   31594  silver     florida     usa\n",
              "2497   9200  nissan  versa  2018  ...   32557   black     florida     usa\n",
              "2498   9200  nissan  versa  2018  ...   31371  silver     florida     usa\n",
              "\n",
              "[5 rows x 9 columns]"
            ]
          },
          "metadata": {},
          "execution_count": 613
        }
      ]
    },
    {
      "cell_type": "code",
      "metadata": {
        "colab": {
          "base_uri": "https://localhost:8080/"
        },
        "id": "QYPaSqZGdEz0",
        "outputId": "306913a5-8782-4592-c13b-cca16f9bf7ff"
      },
      "source": [
        "df['price'] #first 5 last 5"
      ],
      "execution_count": 614,
      "outputs": [
        {
          "output_type": "execute_result",
          "data": {
            "text/plain": [
              "0        6300\n",
              "1        2899\n",
              "2        5350\n",
              "3       25000\n",
              "4       27700\n",
              "        ...  \n",
              "2494     7800\n",
              "2495     9200\n",
              "2496     9200\n",
              "2497     9200\n",
              "2498     9200\n",
              "Name: price, Length: 2499, dtype: int64"
            ]
          },
          "metadata": {},
          "execution_count": 614
        }
      ]
    },
    {
      "cell_type": "code",
      "metadata": {
        "colab": {
          "base_uri": "https://localhost:8080/"
        },
        "id": "ZKpk1ugYjjto",
        "outputId": "a26e65fb-8a17-4236-b9e4-492ec26dbbda"
      },
      "source": [
        "df[\"brand\"]"
      ],
      "execution_count": 615,
      "outputs": [
        {
          "output_type": "execute_result",
          "data": {
            "text/plain": [
              "0          toyota\n",
              "1            ford\n",
              "2           dodge\n",
              "3            ford\n",
              "4       chevrolet\n",
              "          ...    \n",
              "2494       nissan\n",
              "2495       nissan\n",
              "2496       nissan\n",
              "2497       nissan\n",
              "2498       nissan\n",
              "Name: brand, Length: 2499, dtype: object"
            ]
          },
          "metadata": {},
          "execution_count": 615
        }
      ]
    },
    {
      "cell_type": "code",
      "metadata": {
        "colab": {
          "base_uri": "https://localhost:8080/",
          "height": 413
        },
        "id": "BEsPHLVJdW95",
        "outputId": "e7db2195-eb22-43c6-c83d-abffc4f4993e"
      },
      "source": [
        "df.isnull()"
      ],
      "execution_count": 616,
      "outputs": [
        {
          "output_type": "execute_result",
          "data": {
            "text/html": [
              "<div>\n",
              "<style scoped>\n",
              "    .dataframe tbody tr th:only-of-type {\n",
              "        vertical-align: middle;\n",
              "    }\n",
              "\n",
              "    .dataframe tbody tr th {\n",
              "        vertical-align: top;\n",
              "    }\n",
              "\n",
              "    .dataframe thead th {\n",
              "        text-align: right;\n",
              "    }\n",
              "</style>\n",
              "<table border=\"1\" class=\"dataframe\">\n",
              "  <thead>\n",
              "    <tr style=\"text-align: right;\">\n",
              "      <th></th>\n",
              "      <th>price</th>\n",
              "      <th>brand</th>\n",
              "      <th>model</th>\n",
              "      <th>year</th>\n",
              "      <th>title_status</th>\n",
              "      <th>mileage</th>\n",
              "      <th>color</th>\n",
              "      <th>state</th>\n",
              "      <th>country</th>\n",
              "    </tr>\n",
              "  </thead>\n",
              "  <tbody>\n",
              "    <tr>\n",
              "      <th>0</th>\n",
              "      <td>False</td>\n",
              "      <td>False</td>\n",
              "      <td>False</td>\n",
              "      <td>False</td>\n",
              "      <td>False</td>\n",
              "      <td>False</td>\n",
              "      <td>False</td>\n",
              "      <td>False</td>\n",
              "      <td>False</td>\n",
              "    </tr>\n",
              "    <tr>\n",
              "      <th>1</th>\n",
              "      <td>False</td>\n",
              "      <td>False</td>\n",
              "      <td>False</td>\n",
              "      <td>False</td>\n",
              "      <td>False</td>\n",
              "      <td>False</td>\n",
              "      <td>False</td>\n",
              "      <td>False</td>\n",
              "      <td>False</td>\n",
              "    </tr>\n",
              "    <tr>\n",
              "      <th>2</th>\n",
              "      <td>False</td>\n",
              "      <td>False</td>\n",
              "      <td>False</td>\n",
              "      <td>False</td>\n",
              "      <td>False</td>\n",
              "      <td>False</td>\n",
              "      <td>False</td>\n",
              "      <td>False</td>\n",
              "      <td>False</td>\n",
              "    </tr>\n",
              "    <tr>\n",
              "      <th>3</th>\n",
              "      <td>False</td>\n",
              "      <td>False</td>\n",
              "      <td>False</td>\n",
              "      <td>False</td>\n",
              "      <td>False</td>\n",
              "      <td>False</td>\n",
              "      <td>False</td>\n",
              "      <td>False</td>\n",
              "      <td>False</td>\n",
              "    </tr>\n",
              "    <tr>\n",
              "      <th>4</th>\n",
              "      <td>False</td>\n",
              "      <td>False</td>\n",
              "      <td>False</td>\n",
              "      <td>False</td>\n",
              "      <td>False</td>\n",
              "      <td>False</td>\n",
              "      <td>False</td>\n",
              "      <td>False</td>\n",
              "      <td>False</td>\n",
              "    </tr>\n",
              "    <tr>\n",
              "      <th>...</th>\n",
              "      <td>...</td>\n",
              "      <td>...</td>\n",
              "      <td>...</td>\n",
              "      <td>...</td>\n",
              "      <td>...</td>\n",
              "      <td>...</td>\n",
              "      <td>...</td>\n",
              "      <td>...</td>\n",
              "      <td>...</td>\n",
              "    </tr>\n",
              "    <tr>\n",
              "      <th>2494</th>\n",
              "      <td>False</td>\n",
              "      <td>False</td>\n",
              "      <td>False</td>\n",
              "      <td>False</td>\n",
              "      <td>False</td>\n",
              "      <td>False</td>\n",
              "      <td>False</td>\n",
              "      <td>False</td>\n",
              "      <td>False</td>\n",
              "    </tr>\n",
              "    <tr>\n",
              "      <th>2495</th>\n",
              "      <td>False</td>\n",
              "      <td>False</td>\n",
              "      <td>False</td>\n",
              "      <td>False</td>\n",
              "      <td>False</td>\n",
              "      <td>False</td>\n",
              "      <td>False</td>\n",
              "      <td>False</td>\n",
              "      <td>False</td>\n",
              "    </tr>\n",
              "    <tr>\n",
              "      <th>2496</th>\n",
              "      <td>False</td>\n",
              "      <td>False</td>\n",
              "      <td>False</td>\n",
              "      <td>False</td>\n",
              "      <td>False</td>\n",
              "      <td>False</td>\n",
              "      <td>False</td>\n",
              "      <td>False</td>\n",
              "      <td>False</td>\n",
              "    </tr>\n",
              "    <tr>\n",
              "      <th>2497</th>\n",
              "      <td>False</td>\n",
              "      <td>False</td>\n",
              "      <td>False</td>\n",
              "      <td>False</td>\n",
              "      <td>False</td>\n",
              "      <td>False</td>\n",
              "      <td>False</td>\n",
              "      <td>False</td>\n",
              "      <td>False</td>\n",
              "    </tr>\n",
              "    <tr>\n",
              "      <th>2498</th>\n",
              "      <td>False</td>\n",
              "      <td>False</td>\n",
              "      <td>False</td>\n",
              "      <td>False</td>\n",
              "      <td>False</td>\n",
              "      <td>False</td>\n",
              "      <td>False</td>\n",
              "      <td>False</td>\n",
              "      <td>False</td>\n",
              "    </tr>\n",
              "  </tbody>\n",
              "</table>\n",
              "<p>2499 rows × 9 columns</p>\n",
              "</div>"
            ],
            "text/plain": [
              "      price  brand  model   year  title_status  mileage  color  state  country\n",
              "0     False  False  False  False         False    False  False  False    False\n",
              "1     False  False  False  False         False    False  False  False    False\n",
              "2     False  False  False  False         False    False  False  False    False\n",
              "3     False  False  False  False         False    False  False  False    False\n",
              "4     False  False  False  False         False    False  False  False    False\n",
              "...     ...    ...    ...    ...           ...      ...    ...    ...      ...\n",
              "2494  False  False  False  False         False    False  False  False    False\n",
              "2495  False  False  False  False         False    False  False  False    False\n",
              "2496  False  False  False  False         False    False  False  False    False\n",
              "2497  False  False  False  False         False    False  False  False    False\n",
              "2498  False  False  False  False         False    False  False  False    False\n",
              "\n",
              "[2499 rows x 9 columns]"
            ]
          },
          "metadata": {},
          "execution_count": 616
        }
      ]
    },
    {
      "cell_type": "code",
      "metadata": {
        "colab": {
          "base_uri": "https://localhost:8080/"
        },
        "id": "qGj0PqjqdomE",
        "outputId": "436922c0-d59d-465a-f776-1db4833fa0aa"
      },
      "source": [
        "df.isnull().sum()"
      ],
      "execution_count": 617,
      "outputs": [
        {
          "output_type": "execute_result",
          "data": {
            "text/plain": [
              "price           0\n",
              "brand           0\n",
              "model           0\n",
              "year            0\n",
              "title_status    0\n",
              "mileage         0\n",
              "color           0\n",
              "state           0\n",
              "country         0\n",
              "dtype: int64"
            ]
          },
          "metadata": {},
          "execution_count": 617
        }
      ]
    },
    {
      "cell_type": "code",
      "metadata": {
        "colab": {
          "base_uri": "https://localhost:8080/"
        },
        "id": "SDun9RYJfEGW",
        "outputId": "27805f09-0e78-4d86-e150-4759e552edde"
      },
      "source": [
        "df[\"model\"]"
      ],
      "execution_count": 618,
      "outputs": [
        {
          "output_type": "execute_result",
          "data": {
            "text/plain": [
              "0       cruiser\n",
              "1            se\n",
              "2           mpv\n",
              "3          door\n",
              "4          1500\n",
              "         ...   \n",
              "2494      versa\n",
              "2495      versa\n",
              "2496      versa\n",
              "2497      versa\n",
              "2498      versa\n",
              "Name: model, Length: 2499, dtype: object"
            ]
          },
          "metadata": {},
          "execution_count": 618
        }
      ]
    },
    {
      "cell_type": "code",
      "metadata": {
        "colab": {
          "base_uri": "https://localhost:8080/"
        },
        "id": "jzJzkzzRgJRM",
        "outputId": "26079342-5d7e-47d8-ee81-3513c87dcde7"
      },
      "source": [
        "df['color']"
      ],
      "execution_count": 619,
      "outputs": [
        {
          "output_type": "execute_result",
          "data": {
            "text/plain": [
              "0        black\n",
              "1       silver\n",
              "2       silver\n",
              "3         blue\n",
              "4          red\n",
              "         ...  \n",
              "2494       red\n",
              "2495    silver\n",
              "2496    silver\n",
              "2497     black\n",
              "2498    silver\n",
              "Name: color, Length: 2499, dtype: object"
            ]
          },
          "metadata": {},
          "execution_count": 619
        }
      ]
    },
    {
      "cell_type": "code",
      "metadata": {
        "colab": {
          "base_uri": "https://localhost:8080/"
        },
        "id": "t66kyyn7gP6m",
        "outputId": "e4283259-3087-470d-c584-0ef13fa3781d"
      },
      "source": [
        "df[\"brand\"].unique()"
      ],
      "execution_count": 620,
      "outputs": [
        {
          "output_type": "execute_result",
          "data": {
            "text/plain": [
              "array(['toyota', 'ford', 'dodge', 'chevrolet', 'gmc', 'chrysler', 'kia',\n",
              "       'buick', 'infiniti', 'mercedes-benz', 'jeep', 'bmw', 'cadillac',\n",
              "       'hyundai', 'mazda', 'honda', 'heartland', 'jaguar', 'acura',\n",
              "       'harley-davidson', 'audi', 'lincoln', 'lexus', 'nissan', 'land',\n",
              "       'maserati', 'peterbilt', 'ram'], dtype=object)"
            ]
          },
          "metadata": {},
          "execution_count": 620
        }
      ]
    },
    {
      "cell_type": "code",
      "metadata": {
        "colab": {
          "base_uri": "https://localhost:8080/"
        },
        "id": "ns46PtlyhNAk",
        "outputId": "ff7cc281-04dd-4961-fc39-b3dd5fbbf9b3"
      },
      "source": [
        "len(df[\"brand\"].unique())"
      ],
      "execution_count": 621,
      "outputs": [
        {
          "output_type": "execute_result",
          "data": {
            "text/plain": [
              "28"
            ]
          },
          "metadata": {},
          "execution_count": 621
        }
      ]
    },
    {
      "cell_type": "code",
      "metadata": {
        "colab": {
          "base_uri": "https://localhost:8080/"
        },
        "id": "4CRk3FG_hUxk",
        "outputId": "e5fa16b0-3815-4a10-f3cc-da35a896513d"
      },
      "source": [
        "df[\"model\"].unique()"
      ],
      "execution_count": 622,
      "outputs": [
        {
          "output_type": "execute_result",
          "data": {
            "text/plain": [
              "array(['cruiser', 'se', 'mpv', 'door', '1500', 'pk', 'malibu', 'coupe',\n",
              "       'wagon', 'forte', 'encore', 'sorento', 'doors', 'chassis', 'q70',\n",
              "       'camaro', 'convertible', 'vans', 'srw', 'compass', 'enclave',\n",
              "       '300', 'cherokee', 'pacifica', 'x3', 'equinox', 'challenger', 'm',\n",
              "       'colorado', 'focus', 'durango', 'escape', 'charger', 'explorer',\n",
              "       'f-150', '3500', 'caravan', 'van', 'dart', '2500', 'esv',\n",
              "       'cutaway', 'el', 'edge', 'series', 'flex', 'srx', 'cab', 'pickup',\n",
              "       'vehicl', 'trax', 'tahoe', 'suburban', 'cargo', 'drw', 'fiesta',\n",
              "       'impala', 'soul', 'elantra', 'pioneer', 'trail', 'traverse',\n",
              "       'country', 'sundance', 'road/street', 'nautilus', 'gx', 'q5',\n",
              "       'gle', 'sportage', '5', 'sport', 'discovery', 'acadia', 'ghibli',\n",
              "       'glc', 'e-class', 'truck', 'utility', 'limited', 'sl-class',\n",
              "       'cx-3', '2500hd', 'sonic', 'corvette', 'mdx', 'xt5', 'fusion',\n",
              "       'mustang', 'passenger', 'volt', 'spark', 'cruze', 'ld', 'journey',\n",
              "       'transit', 'ranger', 'taurus', 'max', 'energi', 'expedition',\n",
              "       'bus', 'ecosport', 'f-750', 'd', 'dr', 'hybrid', 'suv', 'connect',\n",
              "       'f-650', 'sentra', 'altima', 'frontier', 'rogue', 'maxima',\n",
              "       'versa', 'note', 'armada', 'pathfinder', 'titan', 'sedan', 'juke',\n",
              "       'murano', 'xterra', 'kicks', 'xd', 'nvp'], dtype=object)"
            ]
          },
          "metadata": {},
          "execution_count": 622
        }
      ]
    },
    {
      "cell_type": "code",
      "metadata": {
        "colab": {
          "base_uri": "https://localhost:8080/"
        },
        "id": "W9PTis7jhi4S",
        "outputId": "ac875c53-7464-41f3-8ff0-99eb12296458"
      },
      "source": [
        "len(df[\"model\"].unique())"
      ],
      "execution_count": 623,
      "outputs": [
        {
          "output_type": "execute_result",
          "data": {
            "text/plain": [
              "127"
            ]
          },
          "metadata": {},
          "execution_count": 623
        }
      ]
    },
    {
      "cell_type": "code",
      "metadata": {
        "colab": {
          "base_uri": "https://localhost:8080/"
        },
        "id": "BCAcRzRqhq_F",
        "outputId": "2bc49319-4cac-43db-db89-bdfbd5180106"
      },
      "source": [
        "df[\"color\"].unique()"
      ],
      "execution_count": 624,
      "outputs": [
        {
          "output_type": "execute_result",
          "data": {
            "text/plain": [
              "array(['black', 'silver', 'blue', 'red', 'white', 'gray', 'orange',\n",
              "       'brown', 'no_color', 'gold', 'charcoal', 'turquoise', 'beige',\n",
              "       'green', 'dark blue', 'maroon', 'phantom black', 'yellow',\n",
              "       'color:', 'light blue', 'toreador red', 'bright white clearcoat',\n",
              "       'billet silver metallic clearcoat', 'black clearcoat',\n",
              "       'jazz blue pearlcoat', 'purple',\n",
              "       'ruby red metallic tinted clearcoat', 'triple yellow tri-coat',\n",
              "       'competition orange', 'off-white', 'shadow black',\n",
              "       'magnetic metallic', 'ingot silver metallic', 'ruby red',\n",
              "       'royal crimson metallic tinted clearcoat', 'kona blue metallic',\n",
              "       'oxford white', 'lightning blue', 'ingot silver',\n",
              "       'white platinum tri-coat metallic', 'guard',\n",
              "       'tuxedo black metallic', 'tan', 'burgundy', 'super black',\n",
              "       'cayenne red', 'morningsky blue', 'pearl white', 'glacier white'],\n",
              "      dtype=object)"
            ]
          },
          "metadata": {},
          "execution_count": 624
        }
      ]
    },
    {
      "cell_type": "code",
      "metadata": {
        "colab": {
          "base_uri": "https://localhost:8080/"
        },
        "id": "x15HJAjrh0hh",
        "outputId": "ff2454c1-ae62-4291-ad05-8267a64aceeb"
      },
      "source": [
        "len(df[\"color\"].unique())"
      ],
      "execution_count": 625,
      "outputs": [
        {
          "output_type": "execute_result",
          "data": {
            "text/plain": [
              "49"
            ]
          },
          "metadata": {},
          "execution_count": 625
        }
      ]
    },
    {
      "cell_type": "code",
      "metadata": {
        "colab": {
          "base_uri": "https://localhost:8080/"
        },
        "id": "KnQdWc6nh9Qf",
        "outputId": "df44948f-5b05-48e4-84ff-b99705f63e74"
      },
      "source": [
        "df[\"state\"].unique()"
      ],
      "execution_count": 626,
      "outputs": [
        {
          "output_type": "execute_result",
          "data": {
            "text/plain": [
              "array(['new jersey', 'tennessee', 'georgia', 'virginia', 'florida',\n",
              "       'texas', 'california', 'north carolina', 'ohio', 'new york',\n",
              "       'pennsylvania', 'south carolina', 'michigan', 'washington',\n",
              "       'arizona', 'utah', 'kentucky', 'massachusetts', 'nebraska',\n",
              "       'ontario', 'missouri', 'minnesota', 'oklahoma', 'connecticut',\n",
              "       'indiana', 'arkansas', 'kansas', 'wyoming', 'colorado', 'illinois',\n",
              "       'wisconsin', 'mississippi', 'maryland', 'oregon', 'west virginia',\n",
              "       'nevada', 'rhode island', 'louisiana', 'alabama', 'new mexico',\n",
              "       'idaho', 'new hampshire', 'montana', 'vermont'], dtype=object)"
            ]
          },
          "metadata": {},
          "execution_count": 626
        }
      ]
    },
    {
      "cell_type": "code",
      "metadata": {
        "colab": {
          "base_uri": "https://localhost:8080/"
        },
        "id": "skYSIHociOgM",
        "outputId": "a0628fb3-4142-4655-861d-500e3c2d9639"
      },
      "source": [
        "len(df[\"state\"].unique())"
      ],
      "execution_count": 627,
      "outputs": [
        {
          "output_type": "execute_result",
          "data": {
            "text/plain": [
              "44"
            ]
          },
          "metadata": {},
          "execution_count": 627
        }
      ]
    },
    {
      "cell_type": "code",
      "metadata": {
        "colab": {
          "base_uri": "https://localhost:8080/"
        },
        "id": "grPo8OrEiQz0",
        "outputId": "b4e6db7d-a820-4956-ea25-12e6330e8009"
      },
      "source": [
        "df[\"price\"].sum() // len(df[\"price\"])"
      ],
      "execution_count": 628,
      "outputs": [
        {
          "output_type": "execute_result",
          "data": {
            "text/plain": [
              "18767"
            ]
          },
          "metadata": {},
          "execution_count": 628
        }
      ]
    },
    {
      "cell_type": "code",
      "metadata": {
        "colab": {
          "base_uri": "https://localhost:8080/"
        },
        "id": "VoEHr7yCi25a",
        "outputId": "14767d6a-609a-4449-f12d-12db6eb86afe"
      },
      "source": [
        "df[\"mileage\"].sum() // len(df[\"mileage\"])"
      ],
      "execution_count": 629,
      "outputs": [
        {
          "output_type": "execute_result",
          "data": {
            "text/plain": [
              "52298"
            ]
          },
          "metadata": {},
          "execution_count": 629
        }
      ]
    },
    {
      "cell_type": "code",
      "metadata": {
        "colab": {
          "base_uri": "https://localhost:8080/"
        },
        "id": "vgPGpJsTjEoO",
        "outputId": "6f0e32c7-f75f-4f8d-e7cb-a6a467e9d620"
      },
      "source": [
        "df[\"price\"].max()"
      ],
      "execution_count": 630,
      "outputs": [
        {
          "output_type": "execute_result",
          "data": {
            "text/plain": [
              "84900"
            ]
          },
          "metadata": {},
          "execution_count": 630
        }
      ]
    },
    {
      "cell_type": "code",
      "metadata": {
        "colab": {
          "base_uri": "https://localhost:8080/"
        },
        "id": "g3Yda704j2mH",
        "outputId": "942b4eac-7e93-4b2f-9620-2613f43a0fc8"
      },
      "source": [
        "df[\"price\"].min()"
      ],
      "execution_count": 631,
      "outputs": [
        {
          "output_type": "execute_result",
          "data": {
            "text/plain": [
              "0"
            ]
          },
          "metadata": {},
          "execution_count": 631
        }
      ]
    },
    {
      "cell_type": "code",
      "metadata": {
        "colab": {
          "base_uri": "https://localhost:8080/"
        },
        "id": "SsEk1mDSmiir",
        "outputId": "b7a55475-6413-4476-826a-89f13ed782c2"
      },
      "source": [
        "df[\"mileage\"].max()"
      ],
      "execution_count": 632,
      "outputs": [
        {
          "output_type": "execute_result",
          "data": {
            "text/plain": [
              "1017936"
            ]
          },
          "metadata": {},
          "execution_count": 632
        }
      ]
    },
    {
      "cell_type": "code",
      "metadata": {
        "colab": {
          "base_uri": "https://localhost:8080/"
        },
        "id": "0Vht-rimmoHE",
        "outputId": "78714d5b-2e33-4f0f-ab33-863147156d57"
      },
      "source": [
        "df[\"mileage\"].min()"
      ],
      "execution_count": 633,
      "outputs": [
        {
          "output_type": "execute_result",
          "data": {
            "text/plain": [
              "0"
            ]
          },
          "metadata": {},
          "execution_count": 633
        }
      ]
    },
    {
      "cell_type": "code",
      "metadata": {
        "colab": {
          "base_uri": "https://localhost:8080/"
        },
        "id": "UXMLZOP7ms00",
        "outputId": "188e795f-771f-453f-e5f9-0bcb1eecef11"
      },
      "source": [
        "df[\"brand\"] == \"toyota\""
      ],
      "execution_count": 634,
      "outputs": [
        {
          "output_type": "execute_result",
          "data": {
            "text/plain": [
              "0        True\n",
              "1       False\n",
              "2       False\n",
              "3       False\n",
              "4       False\n",
              "        ...  \n",
              "2494    False\n",
              "2495    False\n",
              "2496    False\n",
              "2497    False\n",
              "2498    False\n",
              "Name: brand, Length: 2499, dtype: bool"
            ]
          },
          "metadata": {},
          "execution_count": 634
        }
      ]
    },
    {
      "cell_type": "code",
      "metadata": {
        "colab": {
          "base_uri": "https://localhost:8080/",
          "height": 79
        },
        "id": "UH_EbNVRniSe",
        "outputId": "f817460f-474b-497a-e57f-3906c85a865c"
      },
      "source": [
        "df[df[\"brand\"] == \"toyota\"]"
      ],
      "execution_count": 635,
      "outputs": [
        {
          "output_type": "execute_result",
          "data": {
            "text/html": [
              "<div>\n",
              "<style scoped>\n",
              "    .dataframe tbody tr th:only-of-type {\n",
              "        vertical-align: middle;\n",
              "    }\n",
              "\n",
              "    .dataframe tbody tr th {\n",
              "        vertical-align: top;\n",
              "    }\n",
              "\n",
              "    .dataframe thead th {\n",
              "        text-align: right;\n",
              "    }\n",
              "</style>\n",
              "<table border=\"1\" class=\"dataframe\">\n",
              "  <thead>\n",
              "    <tr style=\"text-align: right;\">\n",
              "      <th></th>\n",
              "      <th>price</th>\n",
              "      <th>brand</th>\n",
              "      <th>model</th>\n",
              "      <th>year</th>\n",
              "      <th>title_status</th>\n",
              "      <th>mileage</th>\n",
              "      <th>color</th>\n",
              "      <th>state</th>\n",
              "      <th>country</th>\n",
              "    </tr>\n",
              "  </thead>\n",
              "  <tbody>\n",
              "    <tr>\n",
              "      <th>0</th>\n",
              "      <td>6300</td>\n",
              "      <td>toyota</td>\n",
              "      <td>cruiser</td>\n",
              "      <td>2008</td>\n",
              "      <td>clean vehicle</td>\n",
              "      <td>274117</td>\n",
              "      <td>black</td>\n",
              "      <td>new jersey</td>\n",
              "      <td>usa</td>\n",
              "    </tr>\n",
              "  </tbody>\n",
              "</table>\n",
              "</div>"
            ],
            "text/plain": [
              "   price   brand    model  year  ... mileage  color       state country\n",
              "0   6300  toyota  cruiser  2008  ...  274117  black  new jersey     usa\n",
              "\n",
              "[1 rows x 9 columns]"
            ]
          },
          "metadata": {},
          "execution_count": 635
        }
      ]
    },
    {
      "cell_type": "code",
      "metadata": {
        "colab": {
          "base_uri": "https://localhost:8080/"
        },
        "id": "Rdym0N0NnKY0",
        "outputId": "d67fbc10-0b21-4ee4-8564-610f93cdf5f8"
      },
      "source": [
        "df[\"brand\"] == \"ford\""
      ],
      "execution_count": 636,
      "outputs": [
        {
          "output_type": "execute_result",
          "data": {
            "text/plain": [
              "0       False\n",
              "1        True\n",
              "2       False\n",
              "3        True\n",
              "4       False\n",
              "        ...  \n",
              "2494    False\n",
              "2495    False\n",
              "2496    False\n",
              "2497    False\n",
              "2498    False\n",
              "Name: brand, Length: 2499, dtype: bool"
            ]
          },
          "metadata": {},
          "execution_count": 636
        }
      ]
    },
    {
      "cell_type": "code",
      "metadata": {
        "colab": {
          "base_uri": "https://localhost:8080/",
          "height": 413
        },
        "id": "rirCJCxKnT6G",
        "outputId": "21b2ebd0-ba3c-4a70-b7d1-17bfbacbfaff"
      },
      "source": [
        "df[df[\"brand\"] == \"ford\"]"
      ],
      "execution_count": 637,
      "outputs": [
        {
          "output_type": "execute_result",
          "data": {
            "text/html": [
              "<div>\n",
              "<style scoped>\n",
              "    .dataframe tbody tr th:only-of-type {\n",
              "        vertical-align: middle;\n",
              "    }\n",
              "\n",
              "    .dataframe tbody tr th {\n",
              "        vertical-align: top;\n",
              "    }\n",
              "\n",
              "    .dataframe thead th {\n",
              "        text-align: right;\n",
              "    }\n",
              "</style>\n",
              "<table border=\"1\" class=\"dataframe\">\n",
              "  <thead>\n",
              "    <tr style=\"text-align: right;\">\n",
              "      <th></th>\n",
              "      <th>price</th>\n",
              "      <th>brand</th>\n",
              "      <th>model</th>\n",
              "      <th>year</th>\n",
              "      <th>title_status</th>\n",
              "      <th>mileage</th>\n",
              "      <th>color</th>\n",
              "      <th>state</th>\n",
              "      <th>country</th>\n",
              "    </tr>\n",
              "  </thead>\n",
              "  <tbody>\n",
              "    <tr>\n",
              "      <th>1</th>\n",
              "      <td>2899</td>\n",
              "      <td>ford</td>\n",
              "      <td>se</td>\n",
              "      <td>2011</td>\n",
              "      <td>clean vehicle</td>\n",
              "      <td>190552</td>\n",
              "      <td>silver</td>\n",
              "      <td>tennessee</td>\n",
              "      <td>usa</td>\n",
              "    </tr>\n",
              "    <tr>\n",
              "      <th>3</th>\n",
              "      <td>25000</td>\n",
              "      <td>ford</td>\n",
              "      <td>door</td>\n",
              "      <td>2014</td>\n",
              "      <td>clean vehicle</td>\n",
              "      <td>64146</td>\n",
              "      <td>blue</td>\n",
              "      <td>virginia</td>\n",
              "      <td>usa</td>\n",
              "    </tr>\n",
              "    <tr>\n",
              "      <th>9</th>\n",
              "      <td>5250</td>\n",
              "      <td>ford</td>\n",
              "      <td>mpv</td>\n",
              "      <td>2017</td>\n",
              "      <td>clean vehicle</td>\n",
              "      <td>63418</td>\n",
              "      <td>black</td>\n",
              "      <td>texas</td>\n",
              "      <td>usa</td>\n",
              "    </tr>\n",
              "    <tr>\n",
              "      <th>14</th>\n",
              "      <td>20700</td>\n",
              "      <td>ford</td>\n",
              "      <td>door</td>\n",
              "      <td>2013</td>\n",
              "      <td>clean vehicle</td>\n",
              "      <td>100757</td>\n",
              "      <td>black</td>\n",
              "      <td>virginia</td>\n",
              "      <td>usa</td>\n",
              "    </tr>\n",
              "    <tr>\n",
              "      <th>18</th>\n",
              "      <td>5210</td>\n",
              "      <td>ford</td>\n",
              "      <td>mpv</td>\n",
              "      <td>2017</td>\n",
              "      <td>clean vehicle</td>\n",
              "      <td>35714</td>\n",
              "      <td>white</td>\n",
              "      <td>texas</td>\n",
              "      <td>usa</td>\n",
              "    </tr>\n",
              "    <tr>\n",
              "      <th>...</th>\n",
              "      <td>...</td>\n",
              "      <td>...</td>\n",
              "      <td>...</td>\n",
              "      <td>...</td>\n",
              "      <td>...</td>\n",
              "      <td>...</td>\n",
              "      <td>...</td>\n",
              "      <td>...</td>\n",
              "      <td>...</td>\n",
              "    </tr>\n",
              "    <tr>\n",
              "      <th>2199</th>\n",
              "      <td>13800</td>\n",
              "      <td>ford</td>\n",
              "      <td>fusion</td>\n",
              "      <td>2019</td>\n",
              "      <td>clean vehicle</td>\n",
              "      <td>29345</td>\n",
              "      <td>white</td>\n",
              "      <td>north carolina</td>\n",
              "      <td>usa</td>\n",
              "    </tr>\n",
              "    <tr>\n",
              "      <th>2200</th>\n",
              "      <td>56000</td>\n",
              "      <td>ford</td>\n",
              "      <td>srw</td>\n",
              "      <td>2018</td>\n",
              "      <td>clean vehicle</td>\n",
              "      <td>25371</td>\n",
              "      <td>black</td>\n",
              "      <td>pennsylvania</td>\n",
              "      <td>usa</td>\n",
              "    </tr>\n",
              "    <tr>\n",
              "      <th>2201</th>\n",
              "      <td>13800</td>\n",
              "      <td>ford</td>\n",
              "      <td>fusion</td>\n",
              "      <td>2019</td>\n",
              "      <td>clean vehicle</td>\n",
              "      <td>30054</td>\n",
              "      <td>silver</td>\n",
              "      <td>north carolina</td>\n",
              "      <td>usa</td>\n",
              "    </tr>\n",
              "    <tr>\n",
              "      <th>2202</th>\n",
              "      <td>45800</td>\n",
              "      <td>ford</td>\n",
              "      <td>srw</td>\n",
              "      <td>2018</td>\n",
              "      <td>clean vehicle</td>\n",
              "      <td>11173</td>\n",
              "      <td>white</td>\n",
              "      <td>pennsylvania</td>\n",
              "      <td>usa</td>\n",
              "    </tr>\n",
              "    <tr>\n",
              "      <th>2203</th>\n",
              "      <td>13800</td>\n",
              "      <td>ford</td>\n",
              "      <td>fusion</td>\n",
              "      <td>2019</td>\n",
              "      <td>clean vehicle</td>\n",
              "      <td>30902</td>\n",
              "      <td>no_color</td>\n",
              "      <td>north carolina</td>\n",
              "      <td>usa</td>\n",
              "    </tr>\n",
              "  </tbody>\n",
              "</table>\n",
              "<p>1235 rows × 9 columns</p>\n",
              "</div>"
            ],
            "text/plain": [
              "      price brand   model  year  ... mileage     color           state country\n",
              "1      2899  ford      se  2011  ...  190552    silver       tennessee     usa\n",
              "3     25000  ford    door  2014  ...   64146      blue        virginia     usa\n",
              "9      5250  ford     mpv  2017  ...   63418     black           texas     usa\n",
              "14    20700  ford    door  2013  ...  100757     black        virginia     usa\n",
              "18     5210  ford     mpv  2017  ...   35714     white           texas     usa\n",
              "...     ...   ...     ...   ...  ...     ...       ...             ...     ...\n",
              "2199  13800  ford  fusion  2019  ...   29345     white  north carolina     usa\n",
              "2200  56000  ford     srw  2018  ...   25371     black    pennsylvania     usa\n",
              "2201  13800  ford  fusion  2019  ...   30054    silver  north carolina     usa\n",
              "2202  45800  ford     srw  2018  ...   11173     white    pennsylvania     usa\n",
              "2203  13800  ford  fusion  2019  ...   30902  no_color  north carolina     usa\n",
              "\n",
              "[1235 rows x 9 columns]"
            ]
          },
          "metadata": {},
          "execution_count": 637
        }
      ]
    },
    {
      "cell_type": "code",
      "metadata": {
        "colab": {
          "base_uri": "https://localhost:8080/"
        },
        "id": "r5X6MT0gnAtM",
        "outputId": "2c17383a-6a41-4357-8e7d-f52dab816aa7"
      },
      "source": [
        "df[\"brand\"].unique()"
      ],
      "execution_count": 638,
      "outputs": [
        {
          "output_type": "execute_result",
          "data": {
            "text/plain": [
              "array(['toyota', 'ford', 'dodge', 'chevrolet', 'gmc', 'chrysler', 'kia',\n",
              "       'buick', 'infiniti', 'mercedes-benz', 'jeep', 'bmw', 'cadillac',\n",
              "       'hyundai', 'mazda', 'honda', 'heartland', 'jaguar', 'acura',\n",
              "       'harley-davidson', 'audi', 'lincoln', 'lexus', 'nissan', 'land',\n",
              "       'maserati', 'peterbilt', 'ram'], dtype=object)"
            ]
          },
          "metadata": {},
          "execution_count": 638
        }
      ]
    },
    {
      "cell_type": "code",
      "metadata": {
        "colab": {
          "base_uri": "https://localhost:8080/"
        },
        "id": "kKa4f-PxoVht",
        "outputId": "62ab1ebf-6de3-4d3c-a9a3-7c452ade7403"
      },
      "source": [
        "for brand in df[\"brand\"].unique():\n",
        "\n",
        "  print(len(df[df[\"brand\"] == (\"ford\")]))"
      ],
      "execution_count": 639,
      "outputs": [
        {
          "output_type": "stream",
          "name": "stdout",
          "text": [
            "1235\n",
            "1235\n",
            "1235\n",
            "1235\n",
            "1235\n",
            "1235\n",
            "1235\n",
            "1235\n",
            "1235\n",
            "1235\n",
            "1235\n",
            "1235\n",
            "1235\n",
            "1235\n",
            "1235\n",
            "1235\n",
            "1235\n",
            "1235\n",
            "1235\n",
            "1235\n",
            "1235\n",
            "1235\n",
            "1235\n",
            "1235\n",
            "1235\n",
            "1235\n",
            "1235\n",
            "1235\n"
          ]
        }
      ]
    },
    {
      "cell_type": "code",
      "metadata": {
        "colab": {
          "base_uri": "https://localhost:8080/"
        },
        "id": "yrFAjhnfoy5v",
        "outputId": "2e5e61f2-c91f-44cc-8130-3fefc11469e3"
      },
      "source": [
        "for brand in df[\"brand\"].unique():\n",
        "\n",
        "  print(len(df[df[\"brand\"] == brand]))"
      ],
      "execution_count": 640,
      "outputs": [
        {
          "output_type": "stream",
          "name": "stdout",
          "text": [
            "1\n",
            "1235\n",
            "432\n",
            "297\n",
            "42\n",
            "18\n",
            "13\n",
            "13\n",
            "12\n",
            "10\n",
            "30\n",
            "17\n",
            "10\n",
            "15\n",
            "2\n",
            "12\n",
            "5\n",
            "1\n",
            "3\n",
            "1\n",
            "4\n",
            "2\n",
            "2\n",
            "312\n",
            "4\n",
            "1\n",
            "4\n",
            "1\n"
          ]
        }
      ]
    },
    {
      "cell_type": "code",
      "metadata": {
        "colab": {
          "base_uri": "https://localhost:8080/"
        },
        "id": "WWAgyPGUpIFv",
        "outputId": "af8b1c32-529b-4490-e00e-29da9a3f4fcc"
      },
      "source": [
        "for brand in df[\"brand\"].unique():\n",
        "\n",
        "  print(brand, \":\", len(df[df[\"brand\"] == brand]))"
      ],
      "execution_count": 641,
      "outputs": [
        {
          "output_type": "stream",
          "name": "stdout",
          "text": [
            "toyota : 1\n",
            "ford : 1235\n",
            "dodge : 432\n",
            "chevrolet : 297\n",
            "gmc : 42\n",
            "chrysler : 18\n",
            "kia : 13\n",
            "buick : 13\n",
            "infiniti : 12\n",
            "mercedes-benz : 10\n",
            "jeep : 30\n",
            "bmw : 17\n",
            "cadillac : 10\n",
            "hyundai : 15\n",
            "mazda : 2\n",
            "honda : 12\n",
            "heartland : 5\n",
            "jaguar : 1\n",
            "acura : 3\n",
            "harley-davidson : 1\n",
            "audi : 4\n",
            "lincoln : 2\n",
            "lexus : 2\n",
            "nissan : 312\n",
            "land : 4\n",
            "maserati : 1\n",
            "peterbilt : 4\n",
            "ram : 1\n"
          ]
        }
      ]
    },
    {
      "cell_type": "code",
      "metadata": {
        "colab": {
          "base_uri": "https://localhost:8080/"
        },
        "id": "g-tyoHUqp5aU",
        "outputId": "83961cce-4bf8-458c-a161-b40bdeedc414"
      },
      "source": [
        "for model in df[\"model\"].unique():\n",
        "\n",
        "  print(model, \":\", len(df[df[\"model\"] == model]))"
      ],
      "execution_count": 642,
      "outputs": [
        {
          "output_type": "stream",
          "name": "stdout",
          "text": [
            "cruiser : 1\n",
            "se : 1\n",
            "mpv : 87\n",
            "door : 651\n",
            "1500 : 39\n",
            "pk : 5\n",
            "malibu : 12\n",
            "coupe : 6\n",
            "wagon : 30\n",
            "forte : 2\n",
            "encore : 3\n",
            "sorento : 5\n",
            "doors : 148\n",
            "chassis : 4\n",
            "q70 : 1\n",
            "camaro : 6\n",
            "convertible : 1\n",
            "vans : 2\n",
            "srw : 38\n",
            "compass : 6\n",
            "enclave : 2\n",
            "300 : 6\n",
            "cherokee : 3\n",
            "pacifica : 3\n",
            "x3 : 2\n",
            "equinox : 18\n",
            "challenger : 44\n",
            "m : 1\n",
            "colorado : 12\n",
            "focus : 9\n",
            "durango : 64\n",
            "escape : 39\n",
            "charger : 42\n",
            "explorer : 39\n",
            "f-150 : 219\n",
            "3500 : 4\n",
            "caravan : 102\n",
            "van : 46\n",
            "dart : 1\n",
            "2500 : 8\n",
            "esv : 1\n",
            "cutaway : 12\n",
            "el : 3\n",
            "edge : 34\n",
            "series : 8\n",
            "flex : 33\n",
            "srx : 1\n",
            "cab : 8\n",
            "pickup : 15\n",
            "vehicl : 1\n",
            "trax : 8\n",
            "tahoe : 9\n",
            "suburban : 16\n",
            "cargo : 2\n",
            "drw : 10\n",
            "fiesta : 14\n",
            "impala : 12\n",
            "soul : 1\n",
            "elantra : 1\n",
            "pioneer : 1\n",
            "trail : 1\n",
            "traverse : 6\n",
            "country : 2\n",
            "sundance : 1\n",
            "road/street : 1\n",
            "nautilus : 1\n",
            "gx : 1\n",
            "q5 : 1\n",
            "gle : 2\n",
            "sportage : 1\n",
            "5 : 1\n",
            "sport : 40\n",
            "discovery : 1\n",
            "acadia : 1\n",
            "ghibli : 1\n",
            "glc : 1\n",
            "e-class : 1\n",
            "truck : 4\n",
            "utility : 1\n",
            "limited : 1\n",
            "sl-class : 1\n",
            "cx-3 : 1\n",
            "2500hd : 1\n",
            "sonic : 2\n",
            "corvette : 4\n",
            "mdx : 1\n",
            "xt5 : 1\n",
            "fusion : 65\n",
            "mustang : 29\n",
            "passenger : 3\n",
            "volt : 2\n",
            "spark : 1\n",
            "cruze : 2\n",
            "ld : 3\n",
            "journey : 61\n",
            "transit : 41\n",
            "ranger : 6\n",
            "taurus : 10\n",
            "max : 41\n",
            "energi : 1\n",
            "expedition : 28\n",
            "bus : 2\n",
            "ecosport : 7\n",
            "f-750 : 1\n",
            "d : 2\n",
            "dr : 1\n",
            "hybrid : 5\n",
            "suv : 1\n",
            "connect : 1\n",
            "f-650 : 3\n",
            "sentra : 28\n",
            "altima : 21\n",
            "frontier : 14\n",
            "rogue : 54\n",
            "maxima : 3\n",
            "versa : 34\n",
            "note : 2\n",
            "armada : 4\n",
            "pathfinder : 22\n",
            "titan : 5\n",
            "sedan : 4\n",
            "juke : 1\n",
            "murano : 5\n",
            "xterra : 1\n",
            "kicks : 1\n",
            "xd : 1\n",
            "nvp : 1\n"
          ]
        }
      ]
    },
    {
      "cell_type": "code",
      "metadata": {
        "colab": {
          "base_uri": "https://localhost:8080/"
        },
        "id": "PBXvMB8LqqRk",
        "outputId": "ef6555b3-faed-42fc-b363-79abea8384d2"
      },
      "source": [
        "for clr in df[\"color\"].unique():\n",
        "\n",
        "  print(clr, \":\", len(df[df[\"color\"] == clr]))"
      ],
      "execution_count": 643,
      "outputs": [
        {
          "output_type": "stream",
          "name": "stdout",
          "text": [
            "black : 516\n",
            "silver : 300\n",
            "blue : 151\n",
            "red : 192\n",
            "white : 707\n",
            "gray : 395\n",
            "orange : 20\n",
            "brown : 15\n",
            "no_color : 61\n",
            "gold : 19\n",
            "charcoal : 18\n",
            "turquoise : 1\n",
            "beige : 5\n",
            "green : 24\n",
            "dark blue : 1\n",
            "maroon : 1\n",
            "phantom black : 1\n",
            "yellow : 9\n",
            "color: : 5\n",
            "light blue : 1\n",
            "toreador red : 1\n",
            "bright white clearcoat : 2\n",
            "billet silver metallic clearcoat : 3\n",
            "black clearcoat : 2\n",
            "jazz blue pearlcoat : 1\n",
            "purple : 1\n",
            "ruby red metallic tinted clearcoat : 2\n",
            "triple yellow tri-coat : 3\n",
            "competition orange : 1\n",
            "off-white : 2\n",
            "shadow black : 5\n",
            "magnetic metallic : 6\n",
            "ingot silver metallic : 4\n",
            "ruby red : 1\n",
            "royal crimson metallic tinted clearcoat : 1\n",
            "kona blue metallic : 1\n",
            "oxford white : 4\n",
            "lightning blue : 1\n",
            "ingot silver : 1\n",
            "white platinum tri-coat metallic : 2\n",
            "guard : 1\n",
            "tuxedo black metallic : 2\n",
            "tan : 1\n",
            "burgundy : 1\n",
            "super black : 3\n",
            "cayenne red : 2\n",
            "morningsky blue : 1\n",
            "pearl white : 1\n",
            "glacier white : 1\n"
          ]
        }
      ]
    },
    {
      "cell_type": "code",
      "metadata": {
        "colab": {
          "base_uri": "https://localhost:8080/"
        },
        "id": "e-eqdRA0rRDz",
        "outputId": "50c69be4-b530-4088-c44d-18c4aaf4058c"
      },
      "source": [
        "for state in df[\"state\"].unique():\n",
        "\n",
        "  print(state, \":\", len(df[df[\"state\"] == state]))"
      ],
      "execution_count": 644,
      "outputs": [
        {
          "output_type": "stream",
          "name": "stdout",
          "text": [
            "new jersey : 87\n",
            "tennessee : 26\n",
            "georgia : 51\n",
            "virginia : 90\n",
            "florida : 246\n",
            "texas : 214\n",
            "california : 190\n",
            "north carolina : 146\n",
            "ohio : 31\n",
            "new york : 58\n",
            "pennsylvania : 299\n",
            "south carolina : 64\n",
            "michigan : 169\n",
            "washington : 14\n",
            "arizona : 33\n",
            "utah : 10\n",
            "kentucky : 9\n",
            "massachusetts : 27\n",
            "nebraska : 4\n",
            "ontario : 7\n",
            "missouri : 46\n",
            "minnesota : 119\n",
            "oklahoma : 71\n",
            "connecticut : 25\n",
            "indiana : 14\n",
            "arkansas : 12\n",
            "kansas : 4\n",
            "wyoming : 1\n",
            "colorado : 21\n",
            "illinois : 113\n",
            "wisconsin : 94\n",
            "mississippi : 24\n",
            "maryland : 4\n",
            "oregon : 27\n",
            "west virginia : 21\n",
            "nevada : 85\n",
            "rhode island : 2\n",
            "louisiana : 11\n",
            "alabama : 17\n",
            "new mexico : 4\n",
            "idaho : 2\n",
            "new hampshire : 4\n",
            "montana : 1\n",
            "vermont : 2\n"
          ]
        }
      ]
    },
    {
      "cell_type": "code",
      "metadata": {
        "id": "gix2b0uZrRJN"
      },
      "source": [
        "data = []\n",
        "for state in df[\"state\"].unique():\n",
        "\n",
        "  data.append([state, len(df[df[\"state\"] == state])])"
      ],
      "execution_count": 645,
      "outputs": []
    },
    {
      "cell_type": "code",
      "metadata": {
        "colab": {
          "base_uri": "https://localhost:8080/"
        },
        "id": "J_WkVXyj9G9W",
        "outputId": "ce18e0f9-0370-4955-dab8-6fbd7ad85b2f"
      },
      "source": [
        "data"
      ],
      "execution_count": 646,
      "outputs": [
        {
          "output_type": "execute_result",
          "data": {
            "text/plain": [
              "[['new jersey', 87],\n",
              " ['tennessee', 26],\n",
              " ['georgia', 51],\n",
              " ['virginia', 90],\n",
              " ['florida', 246],\n",
              " ['texas', 214],\n",
              " ['california', 190],\n",
              " ['north carolina', 146],\n",
              " ['ohio', 31],\n",
              " ['new york', 58],\n",
              " ['pennsylvania', 299],\n",
              " ['south carolina', 64],\n",
              " ['michigan', 169],\n",
              " ['washington', 14],\n",
              " ['arizona', 33],\n",
              " ['utah', 10],\n",
              " ['kentucky', 9],\n",
              " ['massachusetts', 27],\n",
              " ['nebraska', 4],\n",
              " ['ontario', 7],\n",
              " ['missouri', 46],\n",
              " ['minnesota', 119],\n",
              " ['oklahoma', 71],\n",
              " ['connecticut', 25],\n",
              " ['indiana', 14],\n",
              " ['arkansas', 12],\n",
              " ['kansas', 4],\n",
              " ['wyoming', 1],\n",
              " ['colorado', 21],\n",
              " ['illinois', 113],\n",
              " ['wisconsin', 94],\n",
              " ['mississippi', 24],\n",
              " ['maryland', 4],\n",
              " ['oregon', 27],\n",
              " ['west virginia', 21],\n",
              " ['nevada', 85],\n",
              " ['rhode island', 2],\n",
              " ['louisiana', 11],\n",
              " ['alabama', 17],\n",
              " ['new mexico', 4],\n",
              " ['idaho', 2],\n",
              " ['new hampshire', 4],\n",
              " ['montana', 1],\n",
              " ['vermont', 2]]"
            ]
          },
          "metadata": {},
          "execution_count": 646
        }
      ]
    },
    {
      "cell_type": "code",
      "metadata": {
        "id": "1Lv_mpDo9Yk0"
      },
      "source": [
        "data = []\n",
        "for country in df[\"brand\"].unique():\n",
        "\n",
        "  data.append([country, len(df[df[\"brand\"] == country])])\n",
        "data = pd.DataFrame(data, columns = [\"brand\" , \"freq\"])"
      ],
      "execution_count": 647,
      "outputs": []
    },
    {
      "cell_type": "code",
      "metadata": {
        "colab": {
          "base_uri": "https://localhost:8080/",
          "height": 904
        },
        "id": "dSfiUEa2AkAS",
        "outputId": "cfd44d9b-06c5-418b-90eb-496a121c1a20"
      },
      "source": [
        "data"
      ],
      "execution_count": 648,
      "outputs": [
        {
          "output_type": "execute_result",
          "data": {
            "text/html": [
              "<div>\n",
              "<style scoped>\n",
              "    .dataframe tbody tr th:only-of-type {\n",
              "        vertical-align: middle;\n",
              "    }\n",
              "\n",
              "    .dataframe tbody tr th {\n",
              "        vertical-align: top;\n",
              "    }\n",
              "\n",
              "    .dataframe thead th {\n",
              "        text-align: right;\n",
              "    }\n",
              "</style>\n",
              "<table border=\"1\" class=\"dataframe\">\n",
              "  <thead>\n",
              "    <tr style=\"text-align: right;\">\n",
              "      <th></th>\n",
              "      <th>brand</th>\n",
              "      <th>freq</th>\n",
              "    </tr>\n",
              "  </thead>\n",
              "  <tbody>\n",
              "    <tr>\n",
              "      <th>0</th>\n",
              "      <td>toyota</td>\n",
              "      <td>1</td>\n",
              "    </tr>\n",
              "    <tr>\n",
              "      <th>1</th>\n",
              "      <td>ford</td>\n",
              "      <td>1235</td>\n",
              "    </tr>\n",
              "    <tr>\n",
              "      <th>2</th>\n",
              "      <td>dodge</td>\n",
              "      <td>432</td>\n",
              "    </tr>\n",
              "    <tr>\n",
              "      <th>3</th>\n",
              "      <td>chevrolet</td>\n",
              "      <td>297</td>\n",
              "    </tr>\n",
              "    <tr>\n",
              "      <th>4</th>\n",
              "      <td>gmc</td>\n",
              "      <td>42</td>\n",
              "    </tr>\n",
              "    <tr>\n",
              "      <th>5</th>\n",
              "      <td>chrysler</td>\n",
              "      <td>18</td>\n",
              "    </tr>\n",
              "    <tr>\n",
              "      <th>6</th>\n",
              "      <td>kia</td>\n",
              "      <td>13</td>\n",
              "    </tr>\n",
              "    <tr>\n",
              "      <th>7</th>\n",
              "      <td>buick</td>\n",
              "      <td>13</td>\n",
              "    </tr>\n",
              "    <tr>\n",
              "      <th>8</th>\n",
              "      <td>infiniti</td>\n",
              "      <td>12</td>\n",
              "    </tr>\n",
              "    <tr>\n",
              "      <th>9</th>\n",
              "      <td>mercedes-benz</td>\n",
              "      <td>10</td>\n",
              "    </tr>\n",
              "    <tr>\n",
              "      <th>10</th>\n",
              "      <td>jeep</td>\n",
              "      <td>30</td>\n",
              "    </tr>\n",
              "    <tr>\n",
              "      <th>11</th>\n",
              "      <td>bmw</td>\n",
              "      <td>17</td>\n",
              "    </tr>\n",
              "    <tr>\n",
              "      <th>12</th>\n",
              "      <td>cadillac</td>\n",
              "      <td>10</td>\n",
              "    </tr>\n",
              "    <tr>\n",
              "      <th>13</th>\n",
              "      <td>hyundai</td>\n",
              "      <td>15</td>\n",
              "    </tr>\n",
              "    <tr>\n",
              "      <th>14</th>\n",
              "      <td>mazda</td>\n",
              "      <td>2</td>\n",
              "    </tr>\n",
              "    <tr>\n",
              "      <th>15</th>\n",
              "      <td>honda</td>\n",
              "      <td>12</td>\n",
              "    </tr>\n",
              "    <tr>\n",
              "      <th>16</th>\n",
              "      <td>heartland</td>\n",
              "      <td>5</td>\n",
              "    </tr>\n",
              "    <tr>\n",
              "      <th>17</th>\n",
              "      <td>jaguar</td>\n",
              "      <td>1</td>\n",
              "    </tr>\n",
              "    <tr>\n",
              "      <th>18</th>\n",
              "      <td>acura</td>\n",
              "      <td>3</td>\n",
              "    </tr>\n",
              "    <tr>\n",
              "      <th>19</th>\n",
              "      <td>harley-davidson</td>\n",
              "      <td>1</td>\n",
              "    </tr>\n",
              "    <tr>\n",
              "      <th>20</th>\n",
              "      <td>audi</td>\n",
              "      <td>4</td>\n",
              "    </tr>\n",
              "    <tr>\n",
              "      <th>21</th>\n",
              "      <td>lincoln</td>\n",
              "      <td>2</td>\n",
              "    </tr>\n",
              "    <tr>\n",
              "      <th>22</th>\n",
              "      <td>lexus</td>\n",
              "      <td>2</td>\n",
              "    </tr>\n",
              "    <tr>\n",
              "      <th>23</th>\n",
              "      <td>nissan</td>\n",
              "      <td>312</td>\n",
              "    </tr>\n",
              "    <tr>\n",
              "      <th>24</th>\n",
              "      <td>land</td>\n",
              "      <td>4</td>\n",
              "    </tr>\n",
              "    <tr>\n",
              "      <th>25</th>\n",
              "      <td>maserati</td>\n",
              "      <td>1</td>\n",
              "    </tr>\n",
              "    <tr>\n",
              "      <th>26</th>\n",
              "      <td>peterbilt</td>\n",
              "      <td>4</td>\n",
              "    </tr>\n",
              "    <tr>\n",
              "      <th>27</th>\n",
              "      <td>ram</td>\n",
              "      <td>1</td>\n",
              "    </tr>\n",
              "  </tbody>\n",
              "</table>\n",
              "</div>"
            ],
            "text/plain": [
              "              brand  freq\n",
              "0            toyota     1\n",
              "1              ford  1235\n",
              "2             dodge   432\n",
              "3         chevrolet   297\n",
              "4               gmc    42\n",
              "5          chrysler    18\n",
              "6               kia    13\n",
              "7             buick    13\n",
              "8          infiniti    12\n",
              "9     mercedes-benz    10\n",
              "10             jeep    30\n",
              "11              bmw    17\n",
              "12         cadillac    10\n",
              "13          hyundai    15\n",
              "14            mazda     2\n",
              "15            honda    12\n",
              "16        heartland     5\n",
              "17           jaguar     1\n",
              "18            acura     3\n",
              "19  harley-davidson     1\n",
              "20             audi     4\n",
              "21          lincoln     2\n",
              "22            lexus     2\n",
              "23           nissan   312\n",
              "24             land     4\n",
              "25         maserati     1\n",
              "26        peterbilt     4\n",
              "27              ram     1"
            ]
          },
          "metadata": {},
          "execution_count": 648
        }
      ]
    },
    {
      "cell_type": "markdown",
      "metadata": {
        "id": "utLbJNV4LoPE"
      },
      "source": [
        "#**1. Top 5 brands in terms of number of cars**"
      ]
    },
    {
      "cell_type": "code",
      "metadata": {
        "id": "U2qqQw3kDKFD"
      },
      "source": [
        "data = []\n",
        "for country in df[\"brand\"].unique():\n",
        "\n",
        "  data.append([country, len(df[df[\"brand\"] == country])])\n",
        "data = pd.DataFrame(data, columns = [\"brand\" , \"freq\"])\n",
        "\n",
        "data = data.sort_values(by = \"freq\", ascending= False).head()"
      ],
      "execution_count": 649,
      "outputs": []
    },
    {
      "cell_type": "code",
      "metadata": {
        "colab": {
          "base_uri": "https://localhost:8080/",
          "height": 201
        },
        "id": "pVUXTVllDp3M",
        "outputId": "05ab9da2-9bc8-44af-bcfa-494280da754b"
      },
      "source": [
        "data"
      ],
      "execution_count": 650,
      "outputs": [
        {
          "output_type": "execute_result",
          "data": {
            "text/html": [
              "<div>\n",
              "<style scoped>\n",
              "    .dataframe tbody tr th:only-of-type {\n",
              "        vertical-align: middle;\n",
              "    }\n",
              "\n",
              "    .dataframe tbody tr th {\n",
              "        vertical-align: top;\n",
              "    }\n",
              "\n",
              "    .dataframe thead th {\n",
              "        text-align: right;\n",
              "    }\n",
              "</style>\n",
              "<table border=\"1\" class=\"dataframe\">\n",
              "  <thead>\n",
              "    <tr style=\"text-align: right;\">\n",
              "      <th></th>\n",
              "      <th>brand</th>\n",
              "      <th>freq</th>\n",
              "    </tr>\n",
              "  </thead>\n",
              "  <tbody>\n",
              "    <tr>\n",
              "      <th>1</th>\n",
              "      <td>ford</td>\n",
              "      <td>1235</td>\n",
              "    </tr>\n",
              "    <tr>\n",
              "      <th>2</th>\n",
              "      <td>dodge</td>\n",
              "      <td>432</td>\n",
              "    </tr>\n",
              "    <tr>\n",
              "      <th>23</th>\n",
              "      <td>nissan</td>\n",
              "      <td>312</td>\n",
              "    </tr>\n",
              "    <tr>\n",
              "      <th>3</th>\n",
              "      <td>chevrolet</td>\n",
              "      <td>297</td>\n",
              "    </tr>\n",
              "    <tr>\n",
              "      <th>4</th>\n",
              "      <td>gmc</td>\n",
              "      <td>42</td>\n",
              "    </tr>\n",
              "  </tbody>\n",
              "</table>\n",
              "</div>"
            ],
            "text/plain": [
              "        brand  freq\n",
              "1        ford  1235\n",
              "2       dodge   432\n",
              "23     nissan   312\n",
              "3   chevrolet   297\n",
              "4         gmc    42"
            ]
          },
          "metadata": {},
          "execution_count": 650
        }
      ]
    },
    {
      "cell_type": "code",
      "metadata": {
        "colab": {
          "base_uri": "https://localhost:8080/",
          "height": 332
        },
        "id": "g8PvJ2kP_Tks",
        "outputId": "a3d89879-405b-45b0-f5df-930c281c98da"
      },
      "source": [
        "data.plot( x = \"brand\", y = \"freq\", kind = \"bar\")"
      ],
      "execution_count": 651,
      "outputs": [
        {
          "output_type": "execute_result",
          "data": {
            "text/plain": [
              "<matplotlib.axes._subplots.AxesSubplot at 0x7fce776dc750>"
            ]
          },
          "metadata": {},
          "execution_count": 651
        },
        {
          "output_type": "display_data",
          "data": {
            "image/png": "[encoded data removed]",
            "text/plain": [
              "<Figure size 432x288 with 1 Axes>"
            ]
          },
          "metadata": {
            "needs_background": "light"
          }
        }
      ]
    },
    {
      "cell_type": "code",
      "metadata": {
        "colab": {
          "base_uri": "https://localhost:8080/",
          "height": 387
        },
        "id": "sjp7YulPBZtK",
        "outputId": "baa325be-df40-4156-b4f0-21338138113c"
      },
      "source": [
        "data = []\n",
        "for country in df[\"brand\"].unique():\n",
        "\n",
        "  data.append([country, len(df[df[\"brand\"] == country])])\n",
        "data = pd.DataFrame(data, columns = [\"brand\" , \"freq\"])\n",
        "\n",
        "data = data.sort_values(by = \"freq\", ascending= False).head()\n",
        "\n",
        "data.plot( x = \"brand\", y = \"freq\", kind = \"bar\", figsize = (10,5))"
      ],
      "execution_count": 652,
      "outputs": [
        {
          "output_type": "execute_result",
          "data": {
            "text/plain": [
              "<matplotlib.axes._subplots.AxesSubplot at 0x7fce783606d0>"
            ]
          },
          "metadata": {},
          "execution_count": 652
        },
        {
          "output_type": "display_data",
          "data": {
            "image/png": "[encoded data removed]",
            "text/plain": [
              "<Figure size 720x360 with 1 Axes>"
            ]
          },
          "metadata": {
            "needs_background": "light"
          }
        }
      ]
    },
    {
      "cell_type": "markdown",
      "metadata": {
        "id": "eUPgb7n_QfwZ"
      },
      "source": [
        ""
      ]
    },
    {
      "cell_type": "markdown",
      "metadata": {
        "id": "VNU_xbBvQf_l"
      },
      "source": [
        "#**2. car brand based on frequency of cars**"
      ]
    },
    {
      "cell_type": "code",
      "metadata": {
        "colab": {
          "base_uri": "https://localhost:8080/",
          "height": 420
        },
        "id": "B0tMYwemMUGN",
        "outputId": "1777f639-4d22-4f76-d20a-8efa5f21d166"
      },
      "source": [
        "data = []\n",
        "for country in df[\"brand\"].unique():\n",
        "\n",
        "  data.append([country, len(df[df[\"brand\"] == country])])\n",
        "data = pd.DataFrame(data, columns = [\"brand\" , \"freq\"])\n",
        "\n",
        "data = data.sort_values(by = \"freq\", ascending= False)\n",
        "\n",
        "data.plot( x = \"brand\", y = \"freq\", kind = \"bar\", figsize = (5,5))"
      ],
      "execution_count": 653,
      "outputs": [
        {
          "output_type": "execute_result",
          "data": {
            "text/plain": [
              "<matplotlib.axes._subplots.AxesSubplot at 0x7fce783b51d0>"
            ]
          },
          "metadata": {},
          "execution_count": 653
        },
        {
          "output_type": "display_data",
          "data": {
            "image/png": "[encoded data removed]",
            "text/plain": [
              "<Figure size 360x360 with 1 Axes>"
            ]
          },
          "metadata": {
            "needs_background": "light"
          }
        }
      ]
    },
    {
      "cell_type": "code",
      "metadata": {
        "colab": {
          "base_uri": "https://localhost:8080/",
          "height": 420
        },
        "id": "STwlpo9TB3ct",
        "outputId": "02fddf81-a7cb-46b2-a908-0384446228fc"
      },
      "source": [
        "data = []\n",
        "for country in df[\"brand\"].unique():\n",
        "\n",
        "  data.append([country, len(df[df[\"brand\"] == country])])\n",
        "data = pd.DataFrame(data, columns = [\"brand\" , \"freq\"])\n",
        "\n",
        "data = data.sort_values(by = \"freq\", ascending= False)\n",
        "\n",
        "data.plot( x = \"brand\", y = \"freq\", kind = \"bar\", figsize = (10,5))"
      ],
      "execution_count": 654,
      "outputs": [
        {
          "output_type": "execute_result",
          "data": {
            "text/plain": [
              "<matplotlib.axes._subplots.AxesSubplot at 0x7fce7837f190>"
            ]
          },
          "metadata": {},
          "execution_count": 654
        },
        {
          "output_type": "display_data",
          "data": {
            "image/png": "[encoded data removed]",
            "text/plain": [
              "<Figure size 720x360 with 1 Axes>"
            ]
          },
          "metadata": {
            "needs_background": "light"
          }
        }
      ]
    },
    {
      "cell_type": "markdown",
      "metadata": {
        "id": "2y88HqLHNFN3"
      },
      "source": [
        "#**3. Car Industry trend**"
      ]
    },
    {
      "cell_type": "code",
      "metadata": {
        "colab": {
          "base_uri": "https://localhost:8080/",
          "height": 351
        },
        "id": "JLtUbkvHM4U-",
        "outputId": "455858a2-1f25-4dc6-e09d-d3b4c63653ac"
      },
      "source": [
        "data = []\n",
        "\n",
        "for year in df['year'].unique():\n",
        "    data.append([year , len(df[df['year']  == year])])\n",
        "\n",
        "pd.DataFrame(data,columns = ['year','freq']).sort_values(by='year', ascending = True).plot(x = 'year', y = 'freq', kind = 'line', figsize = (5,5))"
      ],
      "execution_count": 655,
      "outputs": [
        {
          "output_type": "execute_result",
          "data": {
            "text/plain": [
              "<matplotlib.axes._subplots.AxesSubplot at 0x7fce774ec550>"
            ]
          },
          "metadata": {},
          "execution_count": 655
        },
        {
          "output_type": "display_data",
          "data": {
            "image/png": "[encoded data removed]",
            "text/plain": [
              "<Figure size 360x360 with 1 Axes>"
            ]
          },
          "metadata": {
            "needs_background": "light"
          }
        }
      ]
    },
    {
      "cell_type": "code",
      "metadata": {
        "colab": {
          "base_uri": "https://localhost:8080/",
          "height": 351
        },
        "id": "isc6xJmHSohl",
        "outputId": "317b0221-ff16-4153-abd1-c719fe8087fb"
      },
      "source": [
        "data = []\n",
        "\n",
        "for year in df['year'].unique():\n",
        "    data.append([year , len(df[df['year']  == year])])\n",
        "\n",
        "pd.DataFrame(data,columns = ['year','freq']).sort_values(by='year', ascending = True).plot(x = 'year', y = 'freq', kind = 'line', figsize = (10,5))"
      ],
      "execution_count": 656,
      "outputs": [
        {
          "output_type": "execute_result",
          "data": {
            "text/plain": [
              "<matplotlib.axes._subplots.AxesSubplot at 0x7fce775461d0>"
            ]
          },
          "metadata": {},
          "execution_count": 656
        },
        {
          "output_type": "display_data",
          "data": {
            "image/png": "[encoded data removed]",
            "text/plain": [
              "<Figure size 720x360 with 1 Axes>"
            ]
          },
          "metadata": {
            "needs_background": "light"
          }
        }
      ]
    },
    {
      "cell_type": "markdown",
      "metadata": {
        "id": "Hj5lrtBxQxCN"
      },
      "source": [
        "#**4 most popular car color**"
      ]
    },
    {
      "cell_type": "code",
      "metadata": {
        "colab": {
          "base_uri": "https://localhost:8080/",
          "height": 532
        },
        "id": "peik76ANQ3j-",
        "outputId": "6365c195-3ae5-4aa3-b2f3-98d9fe86953b"
      },
      "source": [
        "data = []\n",
        "\n",
        "for color in df['color'].unique():\n",
        "    data.append([color , len(df[df['color']  == color])])\n",
        "\n",
        "pd.DataFrame(data,columns = ['color','freq']).sort_values(by='freq', ascending=False).plot(x = 'color', y = 'freq', kind = 'bar', figsize = (20,5))"
      ],
      "execution_count": 657,
      "outputs": [
        {
          "output_type": "execute_result",
          "data": {
            "text/plain": [
              "<matplotlib.axes._subplots.AxesSubplot at 0x7fce7766e490>"
            ]
          },
          "metadata": {},
          "execution_count": 657
        },
        {
          "output_type": "display_data",
          "data": {
            "image/png": "[encoded data removed]",
            "text/plain": [
              "<Figure size 1440x360 with 1 Axes>"
            ]
          },
          "metadata": {
            "needs_background": "light"
          }
        }
      ]
    },
    {
      "cell_type": "markdown",
      "metadata": {
        "id": "aHaZu_n6TBQb"
      },
      "source": [
        "#**5.Which car brand is having Maximum Average Price**"
      ]
    },
    {
      "cell_type": "code",
      "metadata": {
        "colab": {
          "base_uri": "https://localhost:8080/",
          "height": 366
        },
        "id": "K0_VVMEeTFX8",
        "outputId": "4e66f776-294b-40f2-e387-a42371c20019"
      },
      "source": [
        "df.groupby('brand').mean()['price'].sort_values(ascending = False).plot.bar()"
      ],
      "execution_count": 658,
      "outputs": [
        {
          "output_type": "execute_result",
          "data": {
            "text/plain": [
              "<matplotlib.axes._subplots.AxesSubplot at 0x7fce773aad50>"
            ]
          },
          "metadata": {},
          "execution_count": 658
        },
        {
          "output_type": "display_data",
          "data": {
            "image/png": "[encoded data removed]",
            "text/plain": [
              "<Figure size 432x288 with 1 Axes>"
            ]
          },
          "metadata": {
            "needs_background": "light"
          }
        }
      ]
    },
    {
      "cell_type": "markdown",
      "metadata": {
        "id": "JSRQv8duTVAR"
      },
      "source": [
        "#**6. Which State is having most expensive cars**\n"
      ]
    },
    {
      "cell_type": "code",
      "metadata": {
        "colab": {
          "base_uri": "https://localhost:8080/",
          "height": 416
        },
        "id": "ndt_i2tgTARm",
        "outputId": "28fc0089-e30d-4182-b2bb-e4a675bf4d4e"
      },
      "source": [
        "df.groupby('state').mean()['price'].sort_values(ascending = False).plot.bar(figsize = (15,5))"
      ],
      "execution_count": 659,
      "outputs": [
        {
          "output_type": "execute_result",
          "data": {
            "text/plain": [
              "<matplotlib.axes._subplots.AxesSubplot at 0x7fce775a8110>"
            ]
          },
          "metadata": {},
          "execution_count": 659
        },
        {
          "output_type": "display_data",
          "data": {
            "image/png": "[encoded data removed]",
            "text/plain": [
              "<Figure size 1080x360 with 1 Axes>"
            ]
          },
          "metadata": {
            "needs_background": "light"
          }
        }
      ]
    },
    {
      "cell_type": "code",
      "metadata": {
        "colab": {
          "base_uri": "https://localhost:8080/",
          "height": 365
        },
        "id": "Vlt6EUIQT0_0",
        "outputId": "d5b29ac8-862b-46f1-cc22-531d82d92fc1"
      },
      "source": [
        "df.groupby('year').mean()['price'].sort_values(ascending = False).plot.bar(figsize = (15,5))\n"
      ],
      "execution_count": 660,
      "outputs": [
        {
          "output_type": "execute_result",
          "data": {
            "text/plain": [
              "<matplotlib.axes._subplots.AxesSubplot at 0x7fce77408550>"
            ]
          },
          "metadata": {},
          "execution_count": 660
        },
        {
          "output_type": "display_data",
          "data": {
            "image/png": "[encoded data removed]",
            "text/plain": [
              "<Figure size 1080x360 with 1 Axes>"
            ]
          },
          "metadata": {
            "needs_background": "light"
          }
        }
      ]
    }
  ]
}